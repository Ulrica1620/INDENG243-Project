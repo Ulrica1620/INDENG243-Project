{
 "cells": [
  {
   "cell_type": "code",
   "execution_count": null,
   "id": "401d6e49-fad9-43ce-be0c-70a5bbe519ec",
   "metadata": {
    "id": "401d6e49-fad9-43ce-be0c-70a5bbe519ec"
   },
   "outputs": [],
   "source": [
    "import pandas as pd\n",
    "import numpy as np\n",
    "import seaborn as sns\n",
    "import json\n",
    "import os\n"
   ]
  },
  {
   "cell_type": "markdown",
   "id": "a9f73422-c866-4f1d-a695-972467c056e4",
   "metadata": {
    "id": "a9f73422-c866-4f1d-a695-972467c056e4"
   },
   "source": [
    "# Part 1: Load Data!"
   ]
  },
  {
   "cell_type": "markdown",
   "id": "c7fb0825-36a2-4a6c-8d79-b3aa7ef06b40",
   "metadata": {
    "id": "c7fb0825-36a2-4a6c-8d79-b3aa7ef06b40"
   },
   "source": [
    "### How we obtained the datasets"
   ]
  },
  {
   "cell_type": "markdown",
   "id": "2ccb2bc8-ad02-4cc6-ba00-6860e69d8685",
   "metadata": {
    "id": "2ccb2bc8-ad02-4cc6-ba00-6860e69d8685"
   },
   "source": [
    "In this project, we utilized the Yelp Open Dataset from https://www.yelp.com/dataset/. There are six datasets available: Business, Review, User, Checkin, Tip, Photo. We will only focus on the dataset below: Business, Review, User.\n",
    "\n",
    "Due to the limitation of Gradescope, we cannot upload the original dataset. If you want to run this notebook, please download it through the above link."
   ]
  },
  {
   "cell_type": "markdown",
   "id": "037b8af3-28c5-4a5d-9ee9-3eedf5c94fcb",
   "metadata": {
    "id": "037b8af3-28c5-4a5d-9ee9-3eedf5c94fcb"
   },
   "source": [
    "* business.json: Contains business data including location data, attributes, and categories.\n",
    "* review.json: Contains full review text data including the user_id that wrote the review and the business_id the review is written for.\n",
    "* user.json: User data including the user's friend mapping and all the metadata associated with the user.\n",
    "* checkin.json: Checkins on a business.\n",
    "* tip.json: Tips written by a user on a business. Tips are shorter than reviews and tend to convey quick suggestions.\n",
    "* photo.json: Contains photo data including the caption and classification (one of \"food\", \"drink\", \"menu\", \"inside\" or \"outside\")."
   ]
  },
  {
   "cell_type": "code",
   "execution_count": null,
   "id": "622dbeed-f960-4a5e-ab48-9804bb59cc5e",
   "metadata": {
    "id": "622dbeed-f960-4a5e-ab48-9804bb59cc5e"
   },
   "outputs": [],
   "source": [
    "# Read Json file\n",
    "file = open(\"yelp_dataset/yelp_academic_dataset_business.json\", 'r')\n",
    "business = []\n",
    "for line in file.readlines():\n",
    "    dic = json.loads(line)\n",
    "    business.append(dic)\n",
    "business=pd.DataFrame(business)\n",
    "\n",
    "file_user = open(\"yelp_dataset/yelp_academic_dataset_user.json\", 'r')\n",
    "user = []\n",
    "for line in file_user.readlines():\n",
    "    dic = json.loads(line)\n",
    "    user.append(dic)\n",
    "user=pd.DataFrame(user)\n",
    "\n",
    "file_review = open(\"yelp_dataset/yelp_academic_dataset_review.json\", 'r')\n",
    "review = []\n",
    "for line in file_review.readlines():\n",
    "    dic = json.loads(line)\n",
    "    review.append(dic)\n",
    "review=pd.DataFrame(review)\n",
    "\n",
    "file_checkin = open(\"yelp_dataset/yelp_academic_dataset_checkin.json\", 'r')\n",
    "checkin = []\n",
    "for line in file_checkin.readlines():\n",
    "    dic = json.loads(line)\n",
    "    checkin.append(dic)\n",
    "checkin=pd.DataFrame(checkin)\n",
    "\n",
    "file_tip = open(\"yelp_dataset/yelp_academic_dataset_tip.json\", 'r')\n",
    "tip = []\n",
    "for line in file_tip.readlines():\n",
    "    dic = json.loads(line)\n",
    "    tip.append(dic)\n",
    "tip=pd.DataFrame(tip)"
   ]
  },
  {
   "cell_type": "markdown",
   "id": "03ee4aa2-69d8-4b65-a869-58b4b89e773f",
   "metadata": {
    "id": "03ee4aa2-69d8-4b65-a869-58b4b89e773f"
   },
   "source": [
    "# Part 2: Overview & Processing DataSet"
   ]
  },
  {
   "cell_type": "markdown",
   "id": "20c9dc87-b7a7-4e69-815f-7b79e9e29f30",
   "metadata": {
    "id": "20c9dc87-b7a7-4e69-815f-7b79e9e29f30"
   },
   "source": [
    "## Part 2.1: User Dataset"
   ]
  },
  {
   "cell_type": "markdown",
   "id": "3831fe0d-e528-4d1e-9a25-5bab939fd697",
   "metadata": {
    "id": "3831fe0d-e528-4d1e-9a25-5bab939fd697"
   },
   "source": [
    "### Detailed description of the components in the User data:"
   ]
  },
  {
   "cell_type": "markdown",
   "id": "c09f4aa6-3274-4005-9185-8301fa9ca48b",
   "metadata": {
    "id": "c09f4aa6-3274-4005-9185-8301fa9ca48b"
   },
   "source": [
    "* user_id: string, 22 character unique user id, maps to the user in user.json\n",
    "* name: string, the user's first name\n",
    "* review_count: integer, the number of reviews they've written\n",
    "* yelping_since: string, when the user joined Yelp, formatted like YYYY-MM-DD\n",
    "* friends: array of strings, an array of the user's friend as user_ids\n",
    "* useful: integer, number of useful votes sent by the user\n",
    "* funny: integer, number of funny votes sent by the user\n",
    "* cool: integer, number of cool votes sent by the user\n",
    "* fans: integer, number of fans the user has\n",
    "* elite: array of integers, the years the user was elite\n",
    "* average_stars: float, average rating of all reviews\n",
    "* compliment_hot: integer, number of hot compliments received by the user\n",
    "* compliment_more: integer, number of more compliments received by the user\n",
    "* compliment_profile: integer, number of profile compliments received by the user\n",
    "* compliment_cute: integer, number of cute compliments received by the user\n",
    "* compliment_list: integer, number of list compliments received by the user\n",
    "* compliment_note: integer, number of note compliments received by the user\n",
    "* compliment_plain: integer, number of plain compliments received by the user\n",
    "* compliment_cool: integer, number of cool compliments received by the user\n",
    "* compliment_funny: integer, number of funny compliments received by the user\n",
    "* compliment_writer: integer, number of writer compliments received by the user\n",
    "* compliment_photos: integer, number of photo compliments received by the user"
   ]
  },
  {
   "cell_type": "code",
   "execution_count": null,
   "id": "e83e4cc6-1afb-4cf3-9e01-ced0288832dc",
   "metadata": {
    "id": "e83e4cc6-1afb-4cf3-9e01-ced0288832dc",
    "outputId": "3688186e-c22f-4dfc-cc31-402d028809b8"
   },
   "outputs": [
    {
     "data": {
      "text/html": [
       "<div>\n",
       "<style scoped>\n",
       "    .dataframe tbody tr th:only-of-type {\n",
       "        vertical-align: middle;\n",
       "    }\n",
       "\n",
       "    .dataframe tbody tr th {\n",
       "        vertical-align: top;\n",
       "    }\n",
       "\n",
       "    .dataframe thead th {\n",
       "        text-align: right;\n",
       "    }\n",
       "</style>\n",
       "<table border=\"1\" class=\"dataframe\">\n",
       "  <thead>\n",
       "    <tr style=\"text-align: right;\">\n",
       "      <th></th>\n",
       "      <th>user_id</th>\n",
       "      <th>name</th>\n",
       "      <th>review_count</th>\n",
       "      <th>yelping_since</th>\n",
       "      <th>useful</th>\n",
       "      <th>funny</th>\n",
       "      <th>cool</th>\n",
       "      <th>elite</th>\n",
       "      <th>friends</th>\n",
       "      <th>fans</th>\n",
       "      <th>...</th>\n",
       "      <th>compliment_more</th>\n",
       "      <th>compliment_profile</th>\n",
       "      <th>compliment_cute</th>\n",
       "      <th>compliment_list</th>\n",
       "      <th>compliment_note</th>\n",
       "      <th>compliment_plain</th>\n",
       "      <th>compliment_cool</th>\n",
       "      <th>compliment_funny</th>\n",
       "      <th>compliment_writer</th>\n",
       "      <th>compliment_photos</th>\n",
       "    </tr>\n",
       "  </thead>\n",
       "  <tbody>\n",
       "    <tr>\n",
       "      <th>0</th>\n",
       "      <td>qVc8ODYU5SZjKXVBgXdI7w</td>\n",
       "      <td>Walker</td>\n",
       "      <td>585</td>\n",
       "      <td>2007-01-25 16:47:26</td>\n",
       "      <td>7217</td>\n",
       "      <td>1259</td>\n",
       "      <td>5994</td>\n",
       "      <td>2007</td>\n",
       "      <td>NSCy54eWehBJyZdG2iE84w, pe42u7DcCH2QmI81NX-8qA...</td>\n",
       "      <td>267</td>\n",
       "      <td>...</td>\n",
       "      <td>65</td>\n",
       "      <td>55</td>\n",
       "      <td>56</td>\n",
       "      <td>18</td>\n",
       "      <td>232</td>\n",
       "      <td>844</td>\n",
       "      <td>467</td>\n",
       "      <td>467</td>\n",
       "      <td>239</td>\n",
       "      <td>180</td>\n",
       "    </tr>\n",
       "    <tr>\n",
       "      <th>1</th>\n",
       "      <td>j14WgRoU_-2ZE1aw1dXrJg</td>\n",
       "      <td>Daniel</td>\n",
       "      <td>4333</td>\n",
       "      <td>2009-01-25 04:35:42</td>\n",
       "      <td>43091</td>\n",
       "      <td>13066</td>\n",
       "      <td>27281</td>\n",
       "      <td>2009,2010,2011,2012,2013,2014,2015,2016,2017,2...</td>\n",
       "      <td>ueRPE0CX75ePGMqOFVj6IQ, 52oH4DrRvzzl8wh5UXyU0A...</td>\n",
       "      <td>3138</td>\n",
       "      <td>...</td>\n",
       "      <td>264</td>\n",
       "      <td>184</td>\n",
       "      <td>157</td>\n",
       "      <td>251</td>\n",
       "      <td>1847</td>\n",
       "      <td>7054</td>\n",
       "      <td>3131</td>\n",
       "      <td>3131</td>\n",
       "      <td>1521</td>\n",
       "      <td>1946</td>\n",
       "    </tr>\n",
       "    <tr>\n",
       "      <th>2</th>\n",
       "      <td>2WnXYQFK0hXEoTxPtV2zvg</td>\n",
       "      <td>Steph</td>\n",
       "      <td>665</td>\n",
       "      <td>2008-07-25 10:41:00</td>\n",
       "      <td>2086</td>\n",
       "      <td>1010</td>\n",
       "      <td>1003</td>\n",
       "      <td>2009,2010,2011,2012,2013</td>\n",
       "      <td>LuO3Bn4f3rlhyHIaNfTlnA, j9B4XdHUhDfTKVecyWQgyA...</td>\n",
       "      <td>52</td>\n",
       "      <td>...</td>\n",
       "      <td>13</td>\n",
       "      <td>10</td>\n",
       "      <td>17</td>\n",
       "      <td>3</td>\n",
       "      <td>66</td>\n",
       "      <td>96</td>\n",
       "      <td>119</td>\n",
       "      <td>119</td>\n",
       "      <td>35</td>\n",
       "      <td>18</td>\n",
       "    </tr>\n",
       "    <tr>\n",
       "      <th>3</th>\n",
       "      <td>SZDeASXq7o05mMNLshsdIA</td>\n",
       "      <td>Gwen</td>\n",
       "      <td>224</td>\n",
       "      <td>2005-11-29 04:38:33</td>\n",
       "      <td>512</td>\n",
       "      <td>330</td>\n",
       "      <td>299</td>\n",
       "      <td>2009,2010,2011</td>\n",
       "      <td>enx1vVPnfdNUdPho6PH_wg, 4wOcvMLtU6a9Lslggq74Vg...</td>\n",
       "      <td>28</td>\n",
       "      <td>...</td>\n",
       "      <td>4</td>\n",
       "      <td>1</td>\n",
       "      <td>6</td>\n",
       "      <td>2</td>\n",
       "      <td>12</td>\n",
       "      <td>16</td>\n",
       "      <td>26</td>\n",
       "      <td>26</td>\n",
       "      <td>10</td>\n",
       "      <td>9</td>\n",
       "    </tr>\n",
       "    <tr>\n",
       "      <th>4</th>\n",
       "      <td>hA5lMy-EnncsH4JoR-hFGQ</td>\n",
       "      <td>Karen</td>\n",
       "      <td>79</td>\n",
       "      <td>2007-01-05 19:40:59</td>\n",
       "      <td>29</td>\n",
       "      <td>15</td>\n",
       "      <td>7</td>\n",
       "      <td></td>\n",
       "      <td>PBK4q9KEEBHhFvSXCUirIw, 3FWPpM7KU1gXeOM_ZbYMbA...</td>\n",
       "      <td>1</td>\n",
       "      <td>...</td>\n",
       "      <td>1</td>\n",
       "      <td>0</td>\n",
       "      <td>0</td>\n",
       "      <td>0</td>\n",
       "      <td>1</td>\n",
       "      <td>1</td>\n",
       "      <td>0</td>\n",
       "      <td>0</td>\n",
       "      <td>0</td>\n",
       "      <td>0</td>\n",
       "    </tr>\n",
       "  </tbody>\n",
       "</table>\n",
       "<p>5 rows × 22 columns</p>\n",
       "</div>"
      ],
      "text/plain": [
       "                  user_id    name  review_count        yelping_since  useful  \\\n",
       "0  qVc8ODYU5SZjKXVBgXdI7w  Walker           585  2007-01-25 16:47:26    7217   \n",
       "1  j14WgRoU_-2ZE1aw1dXrJg  Daniel          4333  2009-01-25 04:35:42   43091   \n",
       "2  2WnXYQFK0hXEoTxPtV2zvg   Steph           665  2008-07-25 10:41:00    2086   \n",
       "3  SZDeASXq7o05mMNLshsdIA    Gwen           224  2005-11-29 04:38:33     512   \n",
       "4  hA5lMy-EnncsH4JoR-hFGQ   Karen            79  2007-01-05 19:40:59      29   \n",
       "\n",
       "   funny   cool                                              elite  \\\n",
       "0   1259   5994                                               2007   \n",
       "1  13066  27281  2009,2010,2011,2012,2013,2014,2015,2016,2017,2...   \n",
       "2   1010   1003                           2009,2010,2011,2012,2013   \n",
       "3    330    299                                     2009,2010,2011   \n",
       "4     15      7                                                      \n",
       "\n",
       "                                             friends  fans  ...  \\\n",
       "0  NSCy54eWehBJyZdG2iE84w, pe42u7DcCH2QmI81NX-8qA...   267  ...   \n",
       "1  ueRPE0CX75ePGMqOFVj6IQ, 52oH4DrRvzzl8wh5UXyU0A...  3138  ...   \n",
       "2  LuO3Bn4f3rlhyHIaNfTlnA, j9B4XdHUhDfTKVecyWQgyA...    52  ...   \n",
       "3  enx1vVPnfdNUdPho6PH_wg, 4wOcvMLtU6a9Lslggq74Vg...    28  ...   \n",
       "4  PBK4q9KEEBHhFvSXCUirIw, 3FWPpM7KU1gXeOM_ZbYMbA...     1  ...   \n",
       "\n",
       "   compliment_more  compliment_profile  compliment_cute  compliment_list  \\\n",
       "0               65                  55               56               18   \n",
       "1              264                 184              157              251   \n",
       "2               13                  10               17                3   \n",
       "3                4                   1                6                2   \n",
       "4                1                   0                0                0   \n",
       "\n",
       "   compliment_note  compliment_plain  compliment_cool  compliment_funny  \\\n",
       "0              232               844              467               467   \n",
       "1             1847              7054             3131              3131   \n",
       "2               66                96              119               119   \n",
       "3               12                16               26                26   \n",
       "4                1                 1                0                 0   \n",
       "\n",
       "   compliment_writer  compliment_photos  \n",
       "0                239                180  \n",
       "1               1521               1946  \n",
       "2                 35                 18  \n",
       "3                 10                  9  \n",
       "4                  0                  0  \n",
       "\n",
       "[5 rows x 22 columns]"
      ]
     },
     "execution_count": 11,
     "metadata": {},
     "output_type": "execute_result"
    }
   ],
   "source": [
    "user.head()"
   ]
  },
  {
   "cell_type": "code",
   "execution_count": null,
   "id": "6091342b-6ae8-48de-b432-2136a47e5fc5",
   "metadata": {
    "id": "6091342b-6ae8-48de-b432-2136a47e5fc5",
    "outputId": "a1a5851e-61e9-4e26-f678-f0eec82a7d88"
   },
   "outputs": [
    {
     "data": {
      "text/html": [
       "<div>\n",
       "<style scoped>\n",
       "    .dataframe tbody tr th:only-of-type {\n",
       "        vertical-align: middle;\n",
       "    }\n",
       "\n",
       "    .dataframe tbody tr th {\n",
       "        vertical-align: top;\n",
       "    }\n",
       "\n",
       "    .dataframe thead th {\n",
       "        text-align: right;\n",
       "    }\n",
       "</style>\n",
       "<table border=\"1\" class=\"dataframe\">\n",
       "  <thead>\n",
       "    <tr style=\"text-align: right;\">\n",
       "      <th></th>\n",
       "      <th>count</th>\n",
       "      <th>mean</th>\n",
       "      <th>std</th>\n",
       "      <th>min</th>\n",
       "      <th>25%</th>\n",
       "      <th>50%</th>\n",
       "      <th>75%</th>\n",
       "      <th>max</th>\n",
       "    </tr>\n",
       "  </thead>\n",
       "  <tbody>\n",
       "    <tr>\n",
       "      <th>review_count</th>\n",
       "      <td>1987897.0</td>\n",
       "      <td>23.394409</td>\n",
       "      <td>82.566992</td>\n",
       "      <td>0.0</td>\n",
       "      <td>2.0</td>\n",
       "      <td>5.00</td>\n",
       "      <td>17.00</td>\n",
       "      <td>17473.0</td>\n",
       "    </tr>\n",
       "    <tr>\n",
       "      <th>useful</th>\n",
       "      <td>1987897.0</td>\n",
       "      <td>42.296335</td>\n",
       "      <td>641.480597</td>\n",
       "      <td>0.0</td>\n",
       "      <td>0.0</td>\n",
       "      <td>3.00</td>\n",
       "      <td>13.00</td>\n",
       "      <td>206296.0</td>\n",
       "    </tr>\n",
       "    <tr>\n",
       "      <th>funny</th>\n",
       "      <td>1987897.0</td>\n",
       "      <td>16.970536</td>\n",
       "      <td>407.803437</td>\n",
       "      <td>0.0</td>\n",
       "      <td>0.0</td>\n",
       "      <td>0.00</td>\n",
       "      <td>2.00</td>\n",
       "      <td>185823.0</td>\n",
       "    </tr>\n",
       "    <tr>\n",
       "      <th>cool</th>\n",
       "      <td>1987897.0</td>\n",
       "      <td>23.792914</td>\n",
       "      <td>565.351295</td>\n",
       "      <td>0.0</td>\n",
       "      <td>0.0</td>\n",
       "      <td>0.00</td>\n",
       "      <td>3.00</td>\n",
       "      <td>199878.0</td>\n",
       "    </tr>\n",
       "    <tr>\n",
       "      <th>fans</th>\n",
       "      <td>1987897.0</td>\n",
       "      <td>1.465740</td>\n",
       "      <td>18.130753</td>\n",
       "      <td>0.0</td>\n",
       "      <td>0.0</td>\n",
       "      <td>0.00</td>\n",
       "      <td>0.00</td>\n",
       "      <td>12497.0</td>\n",
       "    </tr>\n",
       "    <tr>\n",
       "      <th>average_stars</th>\n",
       "      <td>1987897.0</td>\n",
       "      <td>3.630494</td>\n",
       "      <td>1.183337</td>\n",
       "      <td>1.0</td>\n",
       "      <td>3.0</td>\n",
       "      <td>3.88</td>\n",
       "      <td>4.56</td>\n",
       "      <td>5.0</td>\n",
       "    </tr>\n",
       "    <tr>\n",
       "      <th>compliment_hot</th>\n",
       "      <td>1987897.0</td>\n",
       "      <td>1.807072</td>\n",
       "      <td>73.601841</td>\n",
       "      <td>0.0</td>\n",
       "      <td>0.0</td>\n",
       "      <td>0.00</td>\n",
       "      <td>0.00</td>\n",
       "      <td>25784.0</td>\n",
       "    </tr>\n",
       "    <tr>\n",
       "      <th>compliment_more</th>\n",
       "      <td>1987897.0</td>\n",
       "      <td>0.292263</td>\n",
       "      <td>12.824667</td>\n",
       "      <td>0.0</td>\n",
       "      <td>0.0</td>\n",
       "      <td>0.00</td>\n",
       "      <td>0.00</td>\n",
       "      <td>13501.0</td>\n",
       "    </tr>\n",
       "    <tr>\n",
       "      <th>compliment_profile</th>\n",
       "      <td>1987897.0</td>\n",
       "      <td>0.179318</td>\n",
       "      <td>15.155253</td>\n",
       "      <td>0.0</td>\n",
       "      <td>0.0</td>\n",
       "      <td>0.00</td>\n",
       "      <td>0.00</td>\n",
       "      <td>14180.0</td>\n",
       "    </tr>\n",
       "    <tr>\n",
       "      <th>compliment_cute</th>\n",
       "      <td>1987897.0</td>\n",
       "      <td>0.133649</td>\n",
       "      <td>11.356823</td>\n",
       "      <td>0.0</td>\n",
       "      <td>0.0</td>\n",
       "      <td>0.00</td>\n",
       "      <td>0.00</td>\n",
       "      <td>13654.0</td>\n",
       "    </tr>\n",
       "    <tr>\n",
       "      <th>compliment_list</th>\n",
       "      <td>1987897.0</td>\n",
       "      <td>0.063907</td>\n",
       "      <td>10.043627</td>\n",
       "      <td>0.0</td>\n",
       "      <td>0.0</td>\n",
       "      <td>0.00</td>\n",
       "      <td>0.00</td>\n",
       "      <td>12669.0</td>\n",
       "    </tr>\n",
       "    <tr>\n",
       "      <th>compliment_note</th>\n",
       "      <td>1987897.0</td>\n",
       "      <td>1.443135</td>\n",
       "      <td>60.167900</td>\n",
       "      <td>0.0</td>\n",
       "      <td>0.0</td>\n",
       "      <td>0.00</td>\n",
       "      <td>0.00</td>\n",
       "      <td>59031.0</td>\n",
       "    </tr>\n",
       "    <tr>\n",
       "      <th>compliment_plain</th>\n",
       "      <td>1987897.0</td>\n",
       "      <td>3.011841</td>\n",
       "      <td>119.389804</td>\n",
       "      <td>0.0</td>\n",
       "      <td>0.0</td>\n",
       "      <td>0.00</td>\n",
       "      <td>0.00</td>\n",
       "      <td>101097.0</td>\n",
       "    </tr>\n",
       "    <tr>\n",
       "      <th>compliment_cool</th>\n",
       "      <td>1987897.0</td>\n",
       "      <td>2.829308</td>\n",
       "      <td>96.663854</td>\n",
       "      <td>0.0</td>\n",
       "      <td>0.0</td>\n",
       "      <td>0.00</td>\n",
       "      <td>0.00</td>\n",
       "      <td>49967.0</td>\n",
       "    </tr>\n",
       "    <tr>\n",
       "      <th>compliment_funny</th>\n",
       "      <td>1987897.0</td>\n",
       "      <td>2.829308</td>\n",
       "      <td>96.663854</td>\n",
       "      <td>0.0</td>\n",
       "      <td>0.0</td>\n",
       "      <td>0.00</td>\n",
       "      <td>0.00</td>\n",
       "      <td>49967.0</td>\n",
       "    </tr>\n",
       "    <tr>\n",
       "      <th>compliment_writer</th>\n",
       "      <td>1987897.0</td>\n",
       "      <td>1.056448</td>\n",
       "      <td>32.179728</td>\n",
       "      <td>0.0</td>\n",
       "      <td>0.0</td>\n",
       "      <td>0.00</td>\n",
       "      <td>0.00</td>\n",
       "      <td>15934.0</td>\n",
       "    </tr>\n",
       "    <tr>\n",
       "      <th>compliment_photos</th>\n",
       "      <td>1987897.0</td>\n",
       "      <td>1.226859</td>\n",
       "      <td>95.157513</td>\n",
       "      <td>0.0</td>\n",
       "      <td>0.0</td>\n",
       "      <td>0.00</td>\n",
       "      <td>0.00</td>\n",
       "      <td>82630.0</td>\n",
       "    </tr>\n",
       "  </tbody>\n",
       "</table>\n",
       "</div>"
      ],
      "text/plain": [
       "                        count       mean         std  min  25%   50%    75%  \\\n",
       "review_count        1987897.0  23.394409   82.566992  0.0  2.0  5.00  17.00   \n",
       "useful              1987897.0  42.296335  641.480597  0.0  0.0  3.00  13.00   \n",
       "funny               1987897.0  16.970536  407.803437  0.0  0.0  0.00   2.00   \n",
       "cool                1987897.0  23.792914  565.351295  0.0  0.0  0.00   3.00   \n",
       "fans                1987897.0   1.465740   18.130753  0.0  0.0  0.00   0.00   \n",
       "average_stars       1987897.0   3.630494    1.183337  1.0  3.0  3.88   4.56   \n",
       "compliment_hot      1987897.0   1.807072   73.601841  0.0  0.0  0.00   0.00   \n",
       "compliment_more     1987897.0   0.292263   12.824667  0.0  0.0  0.00   0.00   \n",
       "compliment_profile  1987897.0   0.179318   15.155253  0.0  0.0  0.00   0.00   \n",
       "compliment_cute     1987897.0   0.133649   11.356823  0.0  0.0  0.00   0.00   \n",
       "compliment_list     1987897.0   0.063907   10.043627  0.0  0.0  0.00   0.00   \n",
       "compliment_note     1987897.0   1.443135   60.167900  0.0  0.0  0.00   0.00   \n",
       "compliment_plain    1987897.0   3.011841  119.389804  0.0  0.0  0.00   0.00   \n",
       "compliment_cool     1987897.0   2.829308   96.663854  0.0  0.0  0.00   0.00   \n",
       "compliment_funny    1987897.0   2.829308   96.663854  0.0  0.0  0.00   0.00   \n",
       "compliment_writer   1987897.0   1.056448   32.179728  0.0  0.0  0.00   0.00   \n",
       "compliment_photos   1987897.0   1.226859   95.157513  0.0  0.0  0.00   0.00   \n",
       "\n",
       "                         max  \n",
       "review_count         17473.0  \n",
       "useful              206296.0  \n",
       "funny               185823.0  \n",
       "cool                199878.0  \n",
       "fans                 12497.0  \n",
       "average_stars            5.0  \n",
       "compliment_hot       25784.0  \n",
       "compliment_more      13501.0  \n",
       "compliment_profile   14180.0  \n",
       "compliment_cute      13654.0  \n",
       "compliment_list      12669.0  \n",
       "compliment_note      59031.0  \n",
       "compliment_plain    101097.0  \n",
       "compliment_cool      49967.0  \n",
       "compliment_funny     49967.0  \n",
       "compliment_writer    15934.0  \n",
       "compliment_photos    82630.0  "
      ]
     },
     "execution_count": 13,
     "metadata": {},
     "output_type": "execute_result"
    }
   ],
   "source": [
    "# describe stats of variables\n",
    "user.describe().T"
   ]
  },
  {
   "cell_type": "code",
   "execution_count": null,
   "id": "77627d67-5374-468a-8b58-5b7ee2daac0f",
   "metadata": {
    "id": "77627d67-5374-468a-8b58-5b7ee2daac0f",
    "outputId": "028646a2-f44b-4d08-b527-9bd69cd9ad8f"
   },
   "outputs": [
    {
     "name": "stdout",
     "output_type": "stream",
     "text": [
      "<class 'pandas.core.frame.DataFrame'>\n",
      "RangeIndex: 1987897 entries, 0 to 1987896\n",
      "Data columns (total 22 columns):\n",
      " #   Column              Dtype  \n",
      "---  ------              -----  \n",
      " 0   user_id             object \n",
      " 1   name                object \n",
      " 2   review_count        int64  \n",
      " 3   yelping_since       object \n",
      " 4   useful              int64  \n",
      " 5   funny               int64  \n",
      " 6   cool                int64  \n",
      " 7   elite               object \n",
      " 8   friends             object \n",
      " 9   fans                int64  \n",
      " 10  average_stars       float64\n",
      " 11  compliment_hot      int64  \n",
      " 12  compliment_more     int64  \n",
      " 13  compliment_profile  int64  \n",
      " 14  compliment_cute     int64  \n",
      " 15  compliment_list     int64  \n",
      " 16  compliment_note     int64  \n",
      " 17  compliment_plain    int64  \n",
      " 18  compliment_cool     int64  \n",
      " 19  compliment_funny    int64  \n",
      " 20  compliment_writer   int64  \n",
      " 21  compliment_photos   int64  \n",
      "dtypes: float64(1), int64(16), object(5)\n",
      "memory usage: 333.7+ MB\n"
     ]
    }
   ],
   "source": [
    "user.info()"
   ]
  },
  {
   "cell_type": "code",
   "execution_count": null,
   "id": "c3857f97-d2d0-4272-a2d1-80784f205cb4",
   "metadata": {
    "id": "c3857f97-d2d0-4272-a2d1-80784f205cb4",
    "outputId": "22b64117-09c7-4cd6-a3a5-4a91d4a8efc9"
   },
   "outputs": [
    {
     "data": {
      "text/html": [
       "<div>\n",
       "<style scoped>\n",
       "    .dataframe tbody tr th:only-of-type {\n",
       "        vertical-align: middle;\n",
       "    }\n",
       "\n",
       "    .dataframe tbody tr th {\n",
       "        vertical-align: top;\n",
       "    }\n",
       "\n",
       "    .dataframe thead th {\n",
       "        text-align: right;\n",
       "    }\n",
       "</style>\n",
       "<table border=\"1\" class=\"dataframe\">\n",
       "  <thead>\n",
       "    <tr style=\"text-align: right;\">\n",
       "      <th></th>\n",
       "      <th>review_count</th>\n",
       "      <th>useful</th>\n",
       "      <th>funny</th>\n",
       "      <th>cool</th>\n",
       "      <th>fans</th>\n",
       "      <th>average_stars</th>\n",
       "      <th>compliment_hot</th>\n",
       "      <th>compliment_more</th>\n",
       "      <th>compliment_profile</th>\n",
       "      <th>compliment_cute</th>\n",
       "      <th>compliment_list</th>\n",
       "      <th>compliment_note</th>\n",
       "      <th>compliment_plain</th>\n",
       "      <th>compliment_cool</th>\n",
       "      <th>compliment_funny</th>\n",
       "      <th>compliment_writer</th>\n",
       "      <th>compliment_photos</th>\n",
       "    </tr>\n",
       "  </thead>\n",
       "  <tbody>\n",
       "    <tr>\n",
       "      <th>review_count</th>\n",
       "      <td>1.000000</td>\n",
       "      <td>0.573369</td>\n",
       "      <td>0.476440</td>\n",
       "      <td>0.494112</td>\n",
       "      <td>0.534190</td>\n",
       "      <td>0.045380</td>\n",
       "      <td>0.262447</td>\n",
       "      <td>0.189265</td>\n",
       "      <td>0.135110</td>\n",
       "      <td>0.120866</td>\n",
       "      <td>0.083666</td>\n",
       "      <td>0.209687</td>\n",
       "      <td>0.267455</td>\n",
       "      <td>0.301840</td>\n",
       "      <td>0.301840</td>\n",
       "      <td>0.333263</td>\n",
       "      <td>0.150500</td>\n",
       "    </tr>\n",
       "    <tr>\n",
       "      <th>useful</th>\n",
       "      <td>0.573369</td>\n",
       "      <td>1.000000</td>\n",
       "      <td>0.954307</td>\n",
       "      <td>0.991841</td>\n",
       "      <td>0.643238</td>\n",
       "      <td>0.010973</td>\n",
       "      <td>0.614303</td>\n",
       "      <td>0.426293</td>\n",
       "      <td>0.360189</td>\n",
       "      <td>0.262687</td>\n",
       "      <td>0.203699</td>\n",
       "      <td>0.433614</td>\n",
       "      <td>0.663199</td>\n",
       "      <td>0.735886</td>\n",
       "      <td>0.735886</td>\n",
       "      <td>0.700046</td>\n",
       "      <td>0.546947</td>\n",
       "    </tr>\n",
       "    <tr>\n",
       "      <th>funny</th>\n",
       "      <td>0.476440</td>\n",
       "      <td>0.954307</td>\n",
       "      <td>1.000000</td>\n",
       "      <td>0.964872</td>\n",
       "      <td>0.590613</td>\n",
       "      <td>0.007060</td>\n",
       "      <td>0.661326</td>\n",
       "      <td>0.476574</td>\n",
       "      <td>0.409498</td>\n",
       "      <td>0.303063</td>\n",
       "      <td>0.235382</td>\n",
       "      <td>0.441846</td>\n",
       "      <td>0.673973</td>\n",
       "      <td>0.772529</td>\n",
       "      <td>0.772529</td>\n",
       "      <td>0.757250</td>\n",
       "      <td>0.581671</td>\n",
       "    </tr>\n",
       "    <tr>\n",
       "      <th>cool</th>\n",
       "      <td>0.494112</td>\n",
       "      <td>0.991841</td>\n",
       "      <td>0.964872</td>\n",
       "      <td>1.000000</td>\n",
       "      <td>0.600828</td>\n",
       "      <td>0.010437</td>\n",
       "      <td>0.630804</td>\n",
       "      <td>0.436831</td>\n",
       "      <td>0.373656</td>\n",
       "      <td>0.270682</td>\n",
       "      <td>0.210513</td>\n",
       "      <td>0.436336</td>\n",
       "      <td>0.671736</td>\n",
       "      <td>0.754928</td>\n",
       "      <td>0.754928</td>\n",
       "      <td>0.707368</td>\n",
       "      <td>0.574912</td>\n",
       "    </tr>\n",
       "    <tr>\n",
       "      <th>fans</th>\n",
       "      <td>0.534190</td>\n",
       "      <td>0.643238</td>\n",
       "      <td>0.590613</td>\n",
       "      <td>0.600828</td>\n",
       "      <td>1.000000</td>\n",
       "      <td>0.019413</td>\n",
       "      <td>0.425691</td>\n",
       "      <td>0.257129</td>\n",
       "      <td>0.204807</td>\n",
       "      <td>0.199979</td>\n",
       "      <td>0.121405</td>\n",
       "      <td>0.321864</td>\n",
       "      <td>0.526995</td>\n",
       "      <td>0.484914</td>\n",
       "      <td>0.484914</td>\n",
       "      <td>0.459413</td>\n",
       "      <td>0.296039</td>\n",
       "    </tr>\n",
       "    <tr>\n",
       "      <th>average_stars</th>\n",
       "      <td>0.045380</td>\n",
       "      <td>0.010973</td>\n",
       "      <td>0.007060</td>\n",
       "      <td>0.010437</td>\n",
       "      <td>0.019413</td>\n",
       "      <td>1.000000</td>\n",
       "      <td>0.005928</td>\n",
       "      <td>0.004485</td>\n",
       "      <td>0.002745</td>\n",
       "      <td>0.002601</td>\n",
       "      <td>0.001425</td>\n",
       "      <td>0.004902</td>\n",
       "      <td>0.006592</td>\n",
       "      <td>0.007309</td>\n",
       "      <td>0.007309</td>\n",
       "      <td>0.007370</td>\n",
       "      <td>0.003890</td>\n",
       "    </tr>\n",
       "    <tr>\n",
       "      <th>compliment_hot</th>\n",
       "      <td>0.262447</td>\n",
       "      <td>0.614303</td>\n",
       "      <td>0.661326</td>\n",
       "      <td>0.630804</td>\n",
       "      <td>0.425691</td>\n",
       "      <td>0.005928</td>\n",
       "      <td>1.000000</td>\n",
       "      <td>0.627411</td>\n",
       "      <td>0.609600</td>\n",
       "      <td>0.546024</td>\n",
       "      <td>0.434293</td>\n",
       "      <td>0.721171</td>\n",
       "      <td>0.682982</td>\n",
       "      <td>0.882702</td>\n",
       "      <td>0.882702</td>\n",
       "      <td>0.802483</td>\n",
       "      <td>0.721363</td>\n",
       "    </tr>\n",
       "    <tr>\n",
       "      <th>compliment_more</th>\n",
       "      <td>0.189265</td>\n",
       "      <td>0.426293</td>\n",
       "      <td>0.476574</td>\n",
       "      <td>0.436831</td>\n",
       "      <td>0.257129</td>\n",
       "      <td>0.004485</td>\n",
       "      <td>0.627411</td>\n",
       "      <td>1.000000</td>\n",
       "      <td>0.961363</td>\n",
       "      <td>0.919417</td>\n",
       "      <td>0.931902</td>\n",
       "      <td>0.448723</td>\n",
       "      <td>0.563017</td>\n",
       "      <td>0.666685</td>\n",
       "      <td>0.666685</td>\n",
       "      <td>0.803428</td>\n",
       "      <td>0.825297</td>\n",
       "    </tr>\n",
       "    <tr>\n",
       "      <th>compliment_profile</th>\n",
       "      <td>0.135110</td>\n",
       "      <td>0.360189</td>\n",
       "      <td>0.409498</td>\n",
       "      <td>0.373656</td>\n",
       "      <td>0.204807</td>\n",
       "      <td>0.002745</td>\n",
       "      <td>0.609600</td>\n",
       "      <td>0.961363</td>\n",
       "      <td>1.000000</td>\n",
       "      <td>0.890371</td>\n",
       "      <td>0.908688</td>\n",
       "      <td>0.421115</td>\n",
       "      <td>0.558923</td>\n",
       "      <td>0.639783</td>\n",
       "      <td>0.639783</td>\n",
       "      <td>0.774470</td>\n",
       "      <td>0.785596</td>\n",
       "    </tr>\n",
       "    <tr>\n",
       "      <th>compliment_cute</th>\n",
       "      <td>0.120866</td>\n",
       "      <td>0.262687</td>\n",
       "      <td>0.303063</td>\n",
       "      <td>0.270682</td>\n",
       "      <td>0.199979</td>\n",
       "      <td>0.002601</td>\n",
       "      <td>0.546024</td>\n",
       "      <td>0.919417</td>\n",
       "      <td>0.890371</td>\n",
       "      <td>1.000000</td>\n",
       "      <td>0.957817</td>\n",
       "      <td>0.357084</td>\n",
       "      <td>0.438571</td>\n",
       "      <td>0.526734</td>\n",
       "      <td>0.526734</td>\n",
       "      <td>0.641525</td>\n",
       "      <td>0.764134</td>\n",
       "    </tr>\n",
       "    <tr>\n",
       "      <th>compliment_list</th>\n",
       "      <td>0.083666</td>\n",
       "      <td>0.203699</td>\n",
       "      <td>0.235382</td>\n",
       "      <td>0.210513</td>\n",
       "      <td>0.121405</td>\n",
       "      <td>0.001425</td>\n",
       "      <td>0.434293</td>\n",
       "      <td>0.931902</td>\n",
       "      <td>0.908688</td>\n",
       "      <td>0.957817</td>\n",
       "      <td>1.000000</td>\n",
       "      <td>0.316559</td>\n",
       "      <td>0.379473</td>\n",
       "      <td>0.446314</td>\n",
       "      <td>0.446314</td>\n",
       "      <td>0.594560</td>\n",
       "      <td>0.741108</td>\n",
       "    </tr>\n",
       "    <tr>\n",
       "      <th>compliment_note</th>\n",
       "      <td>0.209687</td>\n",
       "      <td>0.433614</td>\n",
       "      <td>0.441846</td>\n",
       "      <td>0.436336</td>\n",
       "      <td>0.321864</td>\n",
       "      <td>0.004902</td>\n",
       "      <td>0.721171</td>\n",
       "      <td>0.448723</td>\n",
       "      <td>0.421115</td>\n",
       "      <td>0.357084</td>\n",
       "      <td>0.316559</td>\n",
       "      <td>1.000000</td>\n",
       "      <td>0.490968</td>\n",
       "      <td>0.585247</td>\n",
       "      <td>0.585247</td>\n",
       "      <td>0.538025</td>\n",
       "      <td>0.516039</td>\n",
       "    </tr>\n",
       "    <tr>\n",
       "      <th>compliment_plain</th>\n",
       "      <td>0.267455</td>\n",
       "      <td>0.663199</td>\n",
       "      <td>0.673973</td>\n",
       "      <td>0.671736</td>\n",
       "      <td>0.526995</td>\n",
       "      <td>0.006592</td>\n",
       "      <td>0.682982</td>\n",
       "      <td>0.563017</td>\n",
       "      <td>0.558923</td>\n",
       "      <td>0.438571</td>\n",
       "      <td>0.379473</td>\n",
       "      <td>0.490968</td>\n",
       "      <td>1.000000</td>\n",
       "      <td>0.867103</td>\n",
       "      <td>0.867103</td>\n",
       "      <td>0.772776</td>\n",
       "      <td>0.705211</td>\n",
       "    </tr>\n",
       "    <tr>\n",
       "      <th>compliment_cool</th>\n",
       "      <td>0.301840</td>\n",
       "      <td>0.735886</td>\n",
       "      <td>0.772529</td>\n",
       "      <td>0.754928</td>\n",
       "      <td>0.484914</td>\n",
       "      <td>0.007309</td>\n",
       "      <td>0.882702</td>\n",
       "      <td>0.666685</td>\n",
       "      <td>0.639783</td>\n",
       "      <td>0.526734</td>\n",
       "      <td>0.446314</td>\n",
       "      <td>0.585247</td>\n",
       "      <td>0.867103</td>\n",
       "      <td>1.000000</td>\n",
       "      <td>1.000000</td>\n",
       "      <td>0.875000</td>\n",
       "      <td>0.803907</td>\n",
       "    </tr>\n",
       "    <tr>\n",
       "      <th>compliment_funny</th>\n",
       "      <td>0.301840</td>\n",
       "      <td>0.735886</td>\n",
       "      <td>0.772529</td>\n",
       "      <td>0.754928</td>\n",
       "      <td>0.484914</td>\n",
       "      <td>0.007309</td>\n",
       "      <td>0.882702</td>\n",
       "      <td>0.666685</td>\n",
       "      <td>0.639783</td>\n",
       "      <td>0.526734</td>\n",
       "      <td>0.446314</td>\n",
       "      <td>0.585247</td>\n",
       "      <td>0.867103</td>\n",
       "      <td>1.000000</td>\n",
       "      <td>1.000000</td>\n",
       "      <td>0.875000</td>\n",
       "      <td>0.803907</td>\n",
       "    </tr>\n",
       "    <tr>\n",
       "      <th>compliment_writer</th>\n",
       "      <td>0.333263</td>\n",
       "      <td>0.700046</td>\n",
       "      <td>0.757250</td>\n",
       "      <td>0.707368</td>\n",
       "      <td>0.459413</td>\n",
       "      <td>0.007370</td>\n",
       "      <td>0.802483</td>\n",
       "      <td>0.803428</td>\n",
       "      <td>0.774470</td>\n",
       "      <td>0.641525</td>\n",
       "      <td>0.594560</td>\n",
       "      <td>0.538025</td>\n",
       "      <td>0.772776</td>\n",
       "      <td>0.875000</td>\n",
       "      <td>0.875000</td>\n",
       "      <td>1.000000</td>\n",
       "      <td>0.777261</td>\n",
       "    </tr>\n",
       "    <tr>\n",
       "      <th>compliment_photos</th>\n",
       "      <td>0.150500</td>\n",
       "      <td>0.546947</td>\n",
       "      <td>0.581671</td>\n",
       "      <td>0.574912</td>\n",
       "      <td>0.296039</td>\n",
       "      <td>0.003890</td>\n",
       "      <td>0.721363</td>\n",
       "      <td>0.825297</td>\n",
       "      <td>0.785596</td>\n",
       "      <td>0.764134</td>\n",
       "      <td>0.741108</td>\n",
       "      <td>0.516039</td>\n",
       "      <td>0.705211</td>\n",
       "      <td>0.803907</td>\n",
       "      <td>0.803907</td>\n",
       "      <td>0.777261</td>\n",
       "      <td>1.000000</td>\n",
       "    </tr>\n",
       "  </tbody>\n",
       "</table>\n",
       "</div>"
      ],
      "text/plain": [
       "                    review_count    useful     funny      cool      fans  \\\n",
       "review_count            1.000000  0.573369  0.476440  0.494112  0.534190   \n",
       "useful                  0.573369  1.000000  0.954307  0.991841  0.643238   \n",
       "funny                   0.476440  0.954307  1.000000  0.964872  0.590613   \n",
       "cool                    0.494112  0.991841  0.964872  1.000000  0.600828   \n",
       "fans                    0.534190  0.643238  0.590613  0.600828  1.000000   \n",
       "average_stars           0.045380  0.010973  0.007060  0.010437  0.019413   \n",
       "compliment_hot          0.262447  0.614303  0.661326  0.630804  0.425691   \n",
       "compliment_more         0.189265  0.426293  0.476574  0.436831  0.257129   \n",
       "compliment_profile      0.135110  0.360189  0.409498  0.373656  0.204807   \n",
       "compliment_cute         0.120866  0.262687  0.303063  0.270682  0.199979   \n",
       "compliment_list         0.083666  0.203699  0.235382  0.210513  0.121405   \n",
       "compliment_note         0.209687  0.433614  0.441846  0.436336  0.321864   \n",
       "compliment_plain        0.267455  0.663199  0.673973  0.671736  0.526995   \n",
       "compliment_cool         0.301840  0.735886  0.772529  0.754928  0.484914   \n",
       "compliment_funny        0.301840  0.735886  0.772529  0.754928  0.484914   \n",
       "compliment_writer       0.333263  0.700046  0.757250  0.707368  0.459413   \n",
       "compliment_photos       0.150500  0.546947  0.581671  0.574912  0.296039   \n",
       "\n",
       "                    average_stars  compliment_hot  compliment_more  \\\n",
       "review_count             0.045380        0.262447         0.189265   \n",
       "useful                   0.010973        0.614303         0.426293   \n",
       "funny                    0.007060        0.661326         0.476574   \n",
       "cool                     0.010437        0.630804         0.436831   \n",
       "fans                     0.019413        0.425691         0.257129   \n",
       "average_stars            1.000000        0.005928         0.004485   \n",
       "compliment_hot           0.005928        1.000000         0.627411   \n",
       "compliment_more          0.004485        0.627411         1.000000   \n",
       "compliment_profile       0.002745        0.609600         0.961363   \n",
       "compliment_cute          0.002601        0.546024         0.919417   \n",
       "compliment_list          0.001425        0.434293         0.931902   \n",
       "compliment_note          0.004902        0.721171         0.448723   \n",
       "compliment_plain         0.006592        0.682982         0.563017   \n",
       "compliment_cool          0.007309        0.882702         0.666685   \n",
       "compliment_funny         0.007309        0.882702         0.666685   \n",
       "compliment_writer        0.007370        0.802483         0.803428   \n",
       "compliment_photos        0.003890        0.721363         0.825297   \n",
       "\n",
       "                    compliment_profile  compliment_cute  compliment_list  \\\n",
       "review_count                  0.135110         0.120866         0.083666   \n",
       "useful                        0.360189         0.262687         0.203699   \n",
       "funny                         0.409498         0.303063         0.235382   \n",
       "cool                          0.373656         0.270682         0.210513   \n",
       "fans                          0.204807         0.199979         0.121405   \n",
       "average_stars                 0.002745         0.002601         0.001425   \n",
       "compliment_hot                0.609600         0.546024         0.434293   \n",
       "compliment_more               0.961363         0.919417         0.931902   \n",
       "compliment_profile            1.000000         0.890371         0.908688   \n",
       "compliment_cute               0.890371         1.000000         0.957817   \n",
       "compliment_list               0.908688         0.957817         1.000000   \n",
       "compliment_note               0.421115         0.357084         0.316559   \n",
       "compliment_plain              0.558923         0.438571         0.379473   \n",
       "compliment_cool               0.639783         0.526734         0.446314   \n",
       "compliment_funny              0.639783         0.526734         0.446314   \n",
       "compliment_writer             0.774470         0.641525         0.594560   \n",
       "compliment_photos             0.785596         0.764134         0.741108   \n",
       "\n",
       "                    compliment_note  compliment_plain  compliment_cool  \\\n",
       "review_count               0.209687          0.267455         0.301840   \n",
       "useful                     0.433614          0.663199         0.735886   \n",
       "funny                      0.441846          0.673973         0.772529   \n",
       "cool                       0.436336          0.671736         0.754928   \n",
       "fans                       0.321864          0.526995         0.484914   \n",
       "average_stars              0.004902          0.006592         0.007309   \n",
       "compliment_hot             0.721171          0.682982         0.882702   \n",
       "compliment_more            0.448723          0.563017         0.666685   \n",
       "compliment_profile         0.421115          0.558923         0.639783   \n",
       "compliment_cute            0.357084          0.438571         0.526734   \n",
       "compliment_list            0.316559          0.379473         0.446314   \n",
       "compliment_note            1.000000          0.490968         0.585247   \n",
       "compliment_plain           0.490968          1.000000         0.867103   \n",
       "compliment_cool            0.585247          0.867103         1.000000   \n",
       "compliment_funny           0.585247          0.867103         1.000000   \n",
       "compliment_writer          0.538025          0.772776         0.875000   \n",
       "compliment_photos          0.516039          0.705211         0.803907   \n",
       "\n",
       "                    compliment_funny  compliment_writer  compliment_photos  \n",
       "review_count                0.301840           0.333263           0.150500  \n",
       "useful                      0.735886           0.700046           0.546947  \n",
       "funny                       0.772529           0.757250           0.581671  \n",
       "cool                        0.754928           0.707368           0.574912  \n",
       "fans                        0.484914           0.459413           0.296039  \n",
       "average_stars               0.007309           0.007370           0.003890  \n",
       "compliment_hot              0.882702           0.802483           0.721363  \n",
       "compliment_more             0.666685           0.803428           0.825297  \n",
       "compliment_profile          0.639783           0.774470           0.785596  \n",
       "compliment_cute             0.526734           0.641525           0.764134  \n",
       "compliment_list             0.446314           0.594560           0.741108  \n",
       "compliment_note             0.585247           0.538025           0.516039  \n",
       "compliment_plain            0.867103           0.772776           0.705211  \n",
       "compliment_cool             1.000000           0.875000           0.803907  \n",
       "compliment_funny            1.000000           0.875000           0.803907  \n",
       "compliment_writer           0.875000           1.000000           0.777261  \n",
       "compliment_photos           0.803907           0.777261           1.000000  "
      ]
     },
     "execution_count": 24,
     "metadata": {},
     "output_type": "execute_result"
    }
   ],
   "source": [
    "# correlation table\n",
    "cor_user = user.corr()\n",
    "\n",
    "cor_user"
   ]
  },
  {
   "cell_type": "code",
   "execution_count": null,
   "id": "5810a939-6895-4e49-b138-a1025f32eb22",
   "metadata": {
    "id": "5810a939-6895-4e49-b138-a1025f32eb22",
    "outputId": "2712a8f8-c036-432f-f3f9-036919e9382e"
   },
   "outputs": [
    {
     "data": {
      "image/png": "[encoded data removed]",
      "text/plain": [
       "<Figure size 1008x864 with 2 Axes>"
      ]
     },
     "metadata": {
      "needs_background": "light"
     },
     "output_type": "display_data"
    }
   ],
   "source": [
    "#create the correlation matrix heat map\n",
    "import matplotlib.pyplot as plt\n",
    "\n",
    "plt.figure(figsize=(14,12))\n",
    "\n",
    "sns.heatmap(cor_user,linewidths=.1,cmap=\"YlGnBu\", annot=True)\n",
    "plt.title('Heatmap of the User Data',fontsize=25)\n",
    "\n",
    "plt.yticks(rotation=0);"
   ]
  },
  {
   "cell_type": "code",
   "execution_count": null,
   "id": "8838b984-f1c7-4e97-a3fd-41c94c4ca6d1",
   "metadata": {
    "id": "8838b984-f1c7-4e97-a3fd-41c94c4ca6d1",
    "outputId": "86c225a7-7e86-4ca8-a61c-2be97e98a2eb"
   },
   "outputs": [
    {
     "data": {
      "text/plain": [
       "<AxesSubplot:>"
      ]
     },
     "execution_count": 29,
     "metadata": {},
     "output_type": "execute_result"
    },
    {
     "data": {
      "image/png": "[encoded data removed]",
      "text/plain": [
       "<Figure size 432x288 with 1 Axes>"
      ]
     },
     "metadata": {
      "needs_background": "light"
     },
     "output_type": "display_data"
    }
   ],
   "source": [
    "# box plot of review counts in the user data\n",
    "user[['review_count']].boxplot()"
   ]
  },
  {
   "cell_type": "code",
   "execution_count": null,
   "id": "e8e8da22-eb77-495a-be30-a1ed13259150",
   "metadata": {
    "id": "e8e8da22-eb77-495a-be30-a1ed13259150",
    "outputId": "cc2f93d3-7ac8-42fd-dc1e-9a2dd20da70b"
   },
   "outputs": [
    {
     "data": {
      "text/plain": [
       "<AxesSubplot:>"
      ]
     },
     "execution_count": 30,
     "metadata": {},
     "output_type": "execute_result"
    },
    {
     "data": {
      "image/png": "[encoded data removed]",
      "text/plain": [
       "<Figure size 432x288 with 1 Axes>"
      ]
     },
     "metadata": {
      "needs_background": "light"
     },
     "output_type": "display_data"
    }
   ],
   "source": [
    "# box plot of average stars in the user data\n",
    "user[['average_stars']].boxplot()"
   ]
  },
  {
   "cell_type": "code",
   "execution_count": null,
   "id": "fb057442-6095-4471-8085-f3ed0e6528c0",
   "metadata": {
    "id": "fb057442-6095-4471-8085-f3ed0e6528c0",
    "outputId": "0145eef9-9ea3-47e2-fef0-3782145e1cfd"
   },
   "outputs": [
    {
     "data": {
      "text/plain": [
       "0"
      ]
     },
     "execution_count": 86,
     "metadata": {},
     "output_type": "execute_result"
    }
   ],
   "source": [
    "# Check duplicated values\n",
    "user.duplicated().sum()"
   ]
  },
  {
   "cell_type": "markdown",
   "id": "eda5db48-d73f-42fc-852d-d83d00aa6e25",
   "metadata": {
    "id": "eda5db48-d73f-42fc-852d-d83d00aa6e25"
   },
   "source": [
    "## Part 2.2: Dataset Business"
   ]
  },
  {
   "cell_type": "markdown",
   "id": "89207ae4-ecab-4e11-b112-872a8ffbd467",
   "metadata": {
    "id": "89207ae4-ecab-4e11-b112-872a8ffbd467"
   },
   "source": [
    "### Detailed description of the components in the Business data:"
   ]
  },
  {
   "cell_type": "markdown",
   "id": "4c37aa13-11a8-40a3-919d-7bdc6541c690",
   "metadata": {
    "id": "4c37aa13-11a8-40a3-919d-7bdc6541c690"
   },
   "source": [
    "* business_id: string, 22 character unique string business id\n",
    "* name: string, the business's name\n",
    "* address: string, the full address of the business\n",
    "* city: string, the city\n",
    "* state: string, 2 character state code, if applicable\n",
    "* postal code: string, the postal code\n",
    "* latitude: float, latitude\n",
    "* longitude: float, longitude\n",
    "* stars: float, star rating, rounded to half-stars\n",
    "* review_count: integer, number of reviews\n",
    "* is_open: integer, 0 or 1 for closed or open, respectively\n",
    "* attributes: object, business attributes to values. note: some attribute values might be objects\n",
    "* categories: an array of strings of business categories\n",
    "* hours: an object of key day to value hours, hours are using a 24hr clock"
   ]
  },
  {
   "cell_type": "code",
   "execution_count": null,
   "id": "53642128-b46e-4cb4-a61e-323d65f5318e",
   "metadata": {
    "id": "53642128-b46e-4cb4-a61e-323d65f5318e",
    "outputId": "2046b3b4-de76-456e-a2b5-c40c44f188ef"
   },
   "outputs": [
    {
     "data": {
      "text/html": [
       "<div>\n",
       "<style scoped>\n",
       "    .dataframe tbody tr th:only-of-type {\n",
       "        vertical-align: middle;\n",
       "    }\n",
       "\n",
       "    .dataframe tbody tr th {\n",
       "        vertical-align: top;\n",
       "    }\n",
       "\n",
       "    .dataframe thead th {\n",
       "        text-align: right;\n",
       "    }\n",
       "</style>\n",
       "<table border=\"1\" class=\"dataframe\">\n",
       "  <thead>\n",
       "    <tr style=\"text-align: right;\">\n",
       "      <th></th>\n",
       "      <th>business_id</th>\n",
       "      <th>name</th>\n",
       "      <th>address</th>\n",
       "      <th>city</th>\n",
       "      <th>state</th>\n",
       "      <th>postal_code</th>\n",
       "      <th>latitude</th>\n",
       "      <th>longitude</th>\n",
       "      <th>stars</th>\n",
       "      <th>review_count</th>\n",
       "      <th>is_open</th>\n",
       "      <th>attributes</th>\n",
       "      <th>categories</th>\n",
       "      <th>hours</th>\n",
       "    </tr>\n",
       "  </thead>\n",
       "  <tbody>\n",
       "    <tr>\n",
       "      <th>0</th>\n",
       "      <td>Pns2l4eNsfO8kk83dixA6A</td>\n",
       "      <td>Abby Rappoport, LAC, CMQ</td>\n",
       "      <td>1616 Chapala St, Ste 2</td>\n",
       "      <td>Santa Barbara</td>\n",
       "      <td>CA</td>\n",
       "      <td>93101</td>\n",
       "      <td>34.426679</td>\n",
       "      <td>-119.711197</td>\n",
       "      <td>5.0</td>\n",
       "      <td>7</td>\n",
       "      <td>0</td>\n",
       "      <td>{'ByAppointmentOnly': 'True'}</td>\n",
       "      <td>Doctors, Traditional Chinese Medicine, Naturop...</td>\n",
       "      <td>0</td>\n",
       "    </tr>\n",
       "    <tr>\n",
       "      <th>1</th>\n",
       "      <td>mpf3x-BjTdTEA3yCZrAYPw</td>\n",
       "      <td>The UPS Store</td>\n",
       "      <td>87 Grasso Plaza Shopping Center</td>\n",
       "      <td>Affton</td>\n",
       "      <td>MO</td>\n",
       "      <td>63123</td>\n",
       "      <td>38.551126</td>\n",
       "      <td>-90.335695</td>\n",
       "      <td>3.0</td>\n",
       "      <td>15</td>\n",
       "      <td>1</td>\n",
       "      <td>{'BusinessAcceptsCreditCards': 'True'}</td>\n",
       "      <td>Shipping Centers, Local Services, Notaries, Ma...</td>\n",
       "      <td>{'Monday': '0:0-0:0', 'Tuesday': '8:0-18:30', ...</td>\n",
       "    </tr>\n",
       "    <tr>\n",
       "      <th>2</th>\n",
       "      <td>tUFrWirKiKi_TAnsVWINQQ</td>\n",
       "      <td>Target</td>\n",
       "      <td>5255 E Broadway Blvd</td>\n",
       "      <td>Tucson</td>\n",
       "      <td>AZ</td>\n",
       "      <td>85711</td>\n",
       "      <td>32.223236</td>\n",
       "      <td>-110.880452</td>\n",
       "      <td>3.5</td>\n",
       "      <td>22</td>\n",
       "      <td>0</td>\n",
       "      <td>{'BikeParking': 'True', 'BusinessAcceptsCredit...</td>\n",
       "      <td>Department Stores, Shopping, Fashion, Home &amp; G...</td>\n",
       "      <td>{'Monday': '8:0-22:0', 'Tuesday': '8:0-22:0', ...</td>\n",
       "    </tr>\n",
       "    <tr>\n",
       "      <th>3</th>\n",
       "      <td>MTSW4McQd7CbVtyjqoe9mw</td>\n",
       "      <td>St Honore Pastries</td>\n",
       "      <td>935 Race St</td>\n",
       "      <td>Philadelphia</td>\n",
       "      <td>PA</td>\n",
       "      <td>19107</td>\n",
       "      <td>39.955505</td>\n",
       "      <td>-75.155564</td>\n",
       "      <td>4.0</td>\n",
       "      <td>80</td>\n",
       "      <td>1</td>\n",
       "      <td>{'RestaurantsDelivery': 'False', 'OutdoorSeati...</td>\n",
       "      <td>Restaurants, Food, Bubble Tea, Coffee &amp; Tea, B...</td>\n",
       "      <td>{'Monday': '7:0-20:0', 'Tuesday': '7:0-20:0', ...</td>\n",
       "    </tr>\n",
       "    <tr>\n",
       "      <th>4</th>\n",
       "      <td>mWMc6_wTdE0EUBKIGXDVfA</td>\n",
       "      <td>Perkiomen Valley Brewery</td>\n",
       "      <td>101 Walnut St</td>\n",
       "      <td>Green Lane</td>\n",
       "      <td>PA</td>\n",
       "      <td>18054</td>\n",
       "      <td>40.338183</td>\n",
       "      <td>-75.471659</td>\n",
       "      <td>4.5</td>\n",
       "      <td>13</td>\n",
       "      <td>1</td>\n",
       "      <td>{'BusinessAcceptsCreditCards': 'True', 'Wheelc...</td>\n",
       "      <td>Brewpubs, Breweries, Food</td>\n",
       "      <td>{'Wednesday': '14:0-22:0', 'Thursday': '16:0-2...</td>\n",
       "    </tr>\n",
       "  </tbody>\n",
       "</table>\n",
       "</div>"
      ],
      "text/plain": [
       "              business_id                      name  \\\n",
       "0  Pns2l4eNsfO8kk83dixA6A  Abby Rappoport, LAC, CMQ   \n",
       "1  mpf3x-BjTdTEA3yCZrAYPw             The UPS Store   \n",
       "2  tUFrWirKiKi_TAnsVWINQQ                    Target   \n",
       "3  MTSW4McQd7CbVtyjqoe9mw        St Honore Pastries   \n",
       "4  mWMc6_wTdE0EUBKIGXDVfA  Perkiomen Valley Brewery   \n",
       "\n",
       "                           address           city state postal_code  \\\n",
       "0           1616 Chapala St, Ste 2  Santa Barbara    CA       93101   \n",
       "1  87 Grasso Plaza Shopping Center         Affton    MO       63123   \n",
       "2             5255 E Broadway Blvd         Tucson    AZ       85711   \n",
       "3                      935 Race St   Philadelphia    PA       19107   \n",
       "4                    101 Walnut St     Green Lane    PA       18054   \n",
       "\n",
       "    latitude   longitude  stars  review_count  is_open  \\\n",
       "0  34.426679 -119.711197    5.0             7        0   \n",
       "1  38.551126  -90.335695    3.0            15        1   \n",
       "2  32.223236 -110.880452    3.5            22        0   \n",
       "3  39.955505  -75.155564    4.0            80        1   \n",
       "4  40.338183  -75.471659    4.5            13        1   \n",
       "\n",
       "                                          attributes  \\\n",
       "0                      {'ByAppointmentOnly': 'True'}   \n",
       "1             {'BusinessAcceptsCreditCards': 'True'}   \n",
       "2  {'BikeParking': 'True', 'BusinessAcceptsCredit...   \n",
       "3  {'RestaurantsDelivery': 'False', 'OutdoorSeati...   \n",
       "4  {'BusinessAcceptsCreditCards': 'True', 'Wheelc...   \n",
       "\n",
       "                                          categories  \\\n",
       "0  Doctors, Traditional Chinese Medicine, Naturop...   \n",
       "1  Shipping Centers, Local Services, Notaries, Ma...   \n",
       "2  Department Stores, Shopping, Fashion, Home & G...   \n",
       "3  Restaurants, Food, Bubble Tea, Coffee & Tea, B...   \n",
       "4                          Brewpubs, Breweries, Food   \n",
       "\n",
       "                                               hours  \n",
       "0                                                  0  \n",
       "1  {'Monday': '0:0-0:0', 'Tuesday': '8:0-18:30', ...  \n",
       "2  {'Monday': '8:0-22:0', 'Tuesday': '8:0-22:0', ...  \n",
       "3  {'Monday': '7:0-20:0', 'Tuesday': '7:0-20:0', ...  \n",
       "4  {'Wednesday': '14:0-22:0', 'Thursday': '16:0-2...  "
      ]
     },
     "execution_count": 51,
     "metadata": {},
     "output_type": "execute_result"
    }
   ],
   "source": [
    "business.head()"
   ]
  },
  {
   "cell_type": "code",
   "execution_count": null,
   "id": "ff8a9644-c0d8-48d8-9aee-7d752cf7f80b",
   "metadata": {
    "id": "ff8a9644-c0d8-48d8-9aee-7d752cf7f80b",
    "outputId": "675801d7-ed19-46d5-fc4f-5805c0a170b4"
   },
   "outputs": [
    {
     "data": {
      "text/html": [
       "<div>\n",
       "<style scoped>\n",
       "    .dataframe tbody tr th:only-of-type {\n",
       "        vertical-align: middle;\n",
       "    }\n",
       "\n",
       "    .dataframe tbody tr th {\n",
       "        vertical-align: top;\n",
       "    }\n",
       "\n",
       "    .dataframe thead th {\n",
       "        text-align: right;\n",
       "    }\n",
       "</style>\n",
       "<table border=\"1\" class=\"dataframe\">\n",
       "  <thead>\n",
       "    <tr style=\"text-align: right;\">\n",
       "      <th></th>\n",
       "      <th>count</th>\n",
       "      <th>mean</th>\n",
       "      <th>std</th>\n",
       "      <th>min</th>\n",
       "      <th>25%</th>\n",
       "      <th>50%</th>\n",
       "      <th>75%</th>\n",
       "      <th>max</th>\n",
       "    </tr>\n",
       "  </thead>\n",
       "  <tbody>\n",
       "    <tr>\n",
       "      <th>latitude</th>\n",
       "      <td>150346.0</td>\n",
       "      <td>36.671150</td>\n",
       "      <td>5.872759</td>\n",
       "      <td>27.555127</td>\n",
       "      <td>32.187293</td>\n",
       "      <td>38.777413</td>\n",
       "      <td>39.954036</td>\n",
       "      <td>53.679197</td>\n",
       "    </tr>\n",
       "    <tr>\n",
       "      <th>longitude</th>\n",
       "      <td>150346.0</td>\n",
       "      <td>-89.357339</td>\n",
       "      <td>14.918502</td>\n",
       "      <td>-120.095137</td>\n",
       "      <td>-90.357810</td>\n",
       "      <td>-86.121179</td>\n",
       "      <td>-75.421542</td>\n",
       "      <td>-73.200457</td>\n",
       "    </tr>\n",
       "    <tr>\n",
       "      <th>stars</th>\n",
       "      <td>150346.0</td>\n",
       "      <td>3.596724</td>\n",
       "      <td>0.974421</td>\n",
       "      <td>1.000000</td>\n",
       "      <td>3.000000</td>\n",
       "      <td>3.500000</td>\n",
       "      <td>4.500000</td>\n",
       "      <td>5.000000</td>\n",
       "    </tr>\n",
       "    <tr>\n",
       "      <th>review_count</th>\n",
       "      <td>150346.0</td>\n",
       "      <td>44.866561</td>\n",
       "      <td>121.120136</td>\n",
       "      <td>5.000000</td>\n",
       "      <td>8.000000</td>\n",
       "      <td>15.000000</td>\n",
       "      <td>37.000000</td>\n",
       "      <td>7568.000000</td>\n",
       "    </tr>\n",
       "    <tr>\n",
       "      <th>is_open</th>\n",
       "      <td>150346.0</td>\n",
       "      <td>0.796150</td>\n",
       "      <td>0.402860</td>\n",
       "      <td>0.000000</td>\n",
       "      <td>1.000000</td>\n",
       "      <td>1.000000</td>\n",
       "      <td>1.000000</td>\n",
       "      <td>1.000000</td>\n",
       "    </tr>\n",
       "  </tbody>\n",
       "</table>\n",
       "</div>"
      ],
      "text/plain": [
       "                 count       mean         std         min        25%  \\\n",
       "latitude      150346.0  36.671150    5.872759   27.555127  32.187293   \n",
       "longitude     150346.0 -89.357339   14.918502 -120.095137 -90.357810   \n",
       "stars         150346.0   3.596724    0.974421    1.000000   3.000000   \n",
       "review_count  150346.0  44.866561  121.120136    5.000000   8.000000   \n",
       "is_open       150346.0   0.796150    0.402860    0.000000   1.000000   \n",
       "\n",
       "                    50%        75%          max  \n",
       "latitude      38.777413  39.954036    53.679197  \n",
       "longitude    -86.121179 -75.421542   -73.200457  \n",
       "stars          3.500000   4.500000     5.000000  \n",
       "review_count  15.000000  37.000000  7568.000000  \n",
       "is_open        1.000000   1.000000     1.000000  "
      ]
     },
     "execution_count": 52,
     "metadata": {},
     "output_type": "execute_result"
    }
   ],
   "source": [
    "business.describe().T"
   ]
  },
  {
   "cell_type": "code",
   "execution_count": null,
   "id": "06cd6ae8-960c-430c-a8cf-f4fd40621eac",
   "metadata": {
    "id": "06cd6ae8-960c-430c-a8cf-f4fd40621eac",
    "outputId": "d30873bb-64d9-4bbe-ac89-78074fcae80f"
   },
   "outputs": [
    {
     "data": {
      "text/plain": [
       "<bound method DataFrame.info of                    business_id                      name  \\\n",
       "0       Pns2l4eNsfO8kk83dixA6A  Abby Rappoport, LAC, CMQ   \n",
       "1       mpf3x-BjTdTEA3yCZrAYPw             The UPS Store   \n",
       "2       tUFrWirKiKi_TAnsVWINQQ                    Target   \n",
       "3       MTSW4McQd7CbVtyjqoe9mw        St Honore Pastries   \n",
       "4       mWMc6_wTdE0EUBKIGXDVfA  Perkiomen Valley Brewery   \n",
       "...                        ...                       ...   \n",
       "150341  IUQopTMmYQG-qRtBk-8QnA              Binh's Nails   \n",
       "150342  c8GjPIOTGVmIemT7j5_SyQ      Wild Birds Unlimited   \n",
       "150343  _QAMST-NrQobXduilWEqSw         Claire's Boutique   \n",
       "150344  mtGm22y5c2UHNXDFAjaPNw  Cyclery & Fitness Center   \n",
       "150345  jV_XOycEzSlTx-65W906pg                   Sic Ink   \n",
       "\n",
       "                                address           city state postal_code  \\\n",
       "0                1616 Chapala St, Ste 2  Santa Barbara    CA       93101   \n",
       "1       87 Grasso Plaza Shopping Center         Affton    MO       63123   \n",
       "2                  5255 E Broadway Blvd         Tucson    AZ       85711   \n",
       "3                           935 Race St   Philadelphia    PA       19107   \n",
       "4                         101 Walnut St     Green Lane    PA       18054   \n",
       "...                                 ...            ...   ...         ...   \n",
       "150341                3388 Gateway Blvd       Edmonton    AB     T6J 5H2   \n",
       "150342               2813 Bransford Ave      Nashville    TN       37204   \n",
       "150343           6020 E 82nd St, Ste 46   Indianapolis    IN       46250   \n",
       "150344                     2472 Troy Rd   Edwardsville    IL       62025   \n",
       "150345            238 Apollo Beach Blvd   Apollo beach    FL       33572   \n",
       "\n",
       "         latitude   longitude  stars  review_count  is_open  \\\n",
       "0       34.426679 -119.711197    5.0             7        0   \n",
       "1       38.551126  -90.335695    3.0            15        1   \n",
       "2       32.223236 -110.880452    3.5            22        0   \n",
       "3       39.955505  -75.155564    4.0            80        1   \n",
       "4       40.338183  -75.471659    4.5            13        1   \n",
       "...           ...         ...    ...           ...      ...   \n",
       "150341  53.468419 -113.492054    3.0            13        1   \n",
       "150342  36.115118  -86.766925    4.0             5        1   \n",
       "150343  39.908707  -86.065088    3.5             8        1   \n",
       "150344  38.782351  -89.950558    4.0            24        1   \n",
       "150345  27.771002  -82.394910    4.5             9        1   \n",
       "\n",
       "                                               attributes  \\\n",
       "0                           {'ByAppointmentOnly': 'True'}   \n",
       "1                  {'BusinessAcceptsCreditCards': 'True'}   \n",
       "2       {'BikeParking': 'True', 'BusinessAcceptsCredit...   \n",
       "3       {'RestaurantsDelivery': 'False', 'OutdoorSeati...   \n",
       "4       {'BusinessAcceptsCreditCards': 'True', 'Wheelc...   \n",
       "...                                                   ...   \n",
       "150341  {'ByAppointmentOnly': 'False', 'RestaurantsPri...   \n",
       "150342  {'BusinessAcceptsCreditCards': 'True', 'Restau...   \n",
       "150343  {'RestaurantsPriceRange2': '1', 'BusinessAccep...   \n",
       "150344  {'BusinessParking': '{'garage': False, 'street...   \n",
       "150345  {'WheelchairAccessible': 'True', 'BusinessAcce...   \n",
       "\n",
       "                                               categories  \\\n",
       "0       Doctors, Traditional Chinese Medicine, Naturop...   \n",
       "1       Shipping Centers, Local Services, Notaries, Ma...   \n",
       "2       Department Stores, Shopping, Fashion, Home & G...   \n",
       "3       Restaurants, Food, Bubble Tea, Coffee & Tea, B...   \n",
       "4                               Brewpubs, Breweries, Food   \n",
       "...                                                   ...   \n",
       "150341                         Nail Salons, Beauty & Spas   \n",
       "150342  Pets, Nurseries & Gardening, Pet Stores, Hobby...   \n",
       "150343  Shopping, Jewelry, Piercing, Toy Stores, Beaut...   \n",
       "150344  Fitness/Exercise Equipment, Eyewear & Optician...   \n",
       "150345  Beauty & Spas, Permanent Makeup, Piercing, Tattoo   \n",
       "\n",
       "                                                    hours  \n",
       "0                                                       0  \n",
       "1       {'Monday': '0:0-0:0', 'Tuesday': '8:0-18:30', ...  \n",
       "2       {'Monday': '8:0-22:0', 'Tuesday': '8:0-22:0', ...  \n",
       "3       {'Monday': '7:0-20:0', 'Tuesday': '7:0-20:0', ...  \n",
       "4       {'Wednesday': '14:0-22:0', 'Thursday': '16:0-2...  \n",
       "...                                                   ...  \n",
       "150341  {'Monday': '10:0-19:30', 'Tuesday': '10:0-19:3...  \n",
       "150342  {'Monday': '9:30-17:30', 'Tuesday': '9:30-17:3...  \n",
       "150343                                                  0  \n",
       "150344  {'Monday': '9:0-20:0', 'Tuesday': '9:0-20:0', ...  \n",
       "150345  {'Tuesday': '12:0-19:0', 'Wednesday': '12:0-19...  \n",
       "\n",
       "[150346 rows x 14 columns]>"
      ]
     },
     "execution_count": 55,
     "metadata": {},
     "output_type": "execute_result"
    }
   ],
   "source": [
    "business.info"
   ]
  },
  {
   "cell_type": "code",
   "execution_count": null,
   "id": "124aabdf-1c77-4428-a6a7-037c827af5d0",
   "metadata": {
    "id": "124aabdf-1c77-4428-a6a7-037c827af5d0",
    "outputId": "1d8a8864-edbd-47d6-e47d-b5c2562c8c7c"
   },
   "outputs": [
    {
     "data": {
      "text/plain": [
       "business_id      object\n",
       "name             object\n",
       "address          object\n",
       "city             object\n",
       "state            object\n",
       "postal_code      object\n",
       "latitude        float64\n",
       "longitude       float64\n",
       "stars           float64\n",
       "review_count      int64\n",
       "is_open           int64\n",
       "attributes       object\n",
       "categories       object\n",
       "hours            object\n",
       "dtype: object"
      ]
     },
     "execution_count": 56,
     "metadata": {},
     "output_type": "execute_result"
    }
   ],
   "source": [
    "business.dtypes"
   ]
  },
  {
   "cell_type": "code",
   "execution_count": null,
   "id": "004ac89c-b7cb-47cc-af00-152829695b06",
   "metadata": {
    "id": "004ac89c-b7cb-47cc-af00-152829695b06",
    "outputId": "ce7e5e1b-5cc7-43a8-e964-cea5f09b5038"
   },
   "outputs": [
    {
     "data": {
      "text/plain": [
       "<AxesSubplot:>"
      ]
     },
     "execution_count": 57,
     "metadata": {},
     "output_type": "execute_result"
    },
    {
     "data": {
      "image/png": "[encoded data removed]",
      "text/plain": [
       "<Figure size 432x288 with 1 Axes>"
      ]
     },
     "metadata": {
      "needs_background": "light"
     },
     "output_type": "display_data"
    }
   ],
   "source": [
    "#to check whether there is some outlier data\n",
    "\n",
    "business[['stars']].boxplot()"
   ]
  },
  {
   "cell_type": "code",
   "execution_count": null,
   "id": "8ac9932a-5aff-4e8f-b232-f65443d620a6",
   "metadata": {
    "id": "8ac9932a-5aff-4e8f-b232-f65443d620a6",
    "outputId": "745cbc4f-32d3-4745-eee4-5f69eb8c0f86"
   },
   "outputs": [
    {
     "data": {
      "text/plain": [
       "<AxesSubplot:>"
      ]
     },
     "execution_count": 58,
     "metadata": {},
     "output_type": "execute_result"
    },
    {
     "data": {
      "image/png": "[encoded data removed]",
      "text/plain": [
       "<Figure size 432x288 with 1 Axes>"
      ]
     },
     "metadata": {
      "needs_background": "light"
     },
     "output_type": "display_data"
    }
   ],
   "source": [
    "# box plot of review count\n",
    "business[['review_count']].boxplot()"
   ]
  },
  {
   "cell_type": "code",
   "execution_count": null,
   "id": "7f9bc907-072f-4252-a902-f3c4d785f621",
   "metadata": {
    "id": "7f9bc907-072f-4252-a902-f3c4d785f621",
    "outputId": "c721bcfe-ddf7-4cd6-b3c6-b1935a04bdbc"
   },
   "outputs": [
    {
     "data": {
      "text/plain": [
       "business_id     0\n",
       "name            0\n",
       "address         0\n",
       "city            0\n",
       "state           0\n",
       "postal_code     0\n",
       "latitude        0\n",
       "longitude       0\n",
       "stars           0\n",
       "review_count    0\n",
       "is_open         0\n",
       "attributes      0\n",
       "categories      0\n",
       "hours           0\n",
       "dtype: int64"
      ]
     },
     "execution_count": 59,
     "metadata": {},
     "output_type": "execute_result"
    }
   ],
   "source": [
    "#check null values\n",
    "business.isnull().sum()"
   ]
  },
  {
   "cell_type": "code",
   "execution_count": null,
   "id": "9faabab4-daf8-4286-94d5-5e3924ad51e8",
   "metadata": {
    "id": "9faabab4-daf8-4286-94d5-5e3924ad51e8",
    "outputId": "bb2e2146-fc6b-4630-dc8c-f441c6a311fc"
   },
   "outputs": [
    {
     "data": {
      "text/plain": [
       "business_id     0\n",
       "name            0\n",
       "address         0\n",
       "city            0\n",
       "state           0\n",
       "postal_code     0\n",
       "latitude        0\n",
       "longitude       0\n",
       "stars           0\n",
       "review_count    0\n",
       "is_open         0\n",
       "attributes      0\n",
       "categories      0\n",
       "hours           0\n",
       "dtype: int64"
      ]
     },
     "execution_count": 60,
     "metadata": {},
     "output_type": "execute_result"
    }
   ],
   "source": [
    "# replace null values with 0\n",
    "business.replace(np.nan,'0',inplace=True)\n",
    "\n",
    "business.isnull().sum()"
   ]
  },
  {
   "cell_type": "code",
   "execution_count": null,
   "id": "fa69e3bf-b6e9-45e1-b979-28dcda35974c",
   "metadata": {
    "id": "fa69e3bf-b6e9-45e1-b979-28dcda35974c",
    "outputId": "e7c79386-d54f-4739-ef60-8e1631b61323"
   },
   "outputs": [
    {
     "data": {
      "image/png": "[encoded data removed]",
      "text/plain": [
       "<Figure size 1008x864 with 2 Axes>"
      ]
     },
     "metadata": {
      "needs_background": "light"
     },
     "output_type": "display_data"
    }
   ],
   "source": [
    "#create the correlation matrix heat map\n",
    "plt.figure(figsize=(14,12))\n",
    "\n",
    "sns.heatmap(business.corr(),linewidths=.1,cmap=\"YlGnBu\", annot=True)\n",
    "plt.title('Heatmap of the Business Data',fontsize=25)\n",
    "\n",
    "plt.yticks(rotation=0);"
   ]
  },
  {
   "cell_type": "markdown",
   "id": "833aecae-39bc-45c5-9611-f8dea69f13e2",
   "metadata": {
    "id": "833aecae-39bc-45c5-9611-f8dea69f13e2"
   },
   "source": [
    "## Part 2.3: Dataset Review"
   ]
  },
  {
   "cell_type": "markdown",
   "id": "0873be1b-476b-461f-935f-9c6a256fc489",
   "metadata": {
    "id": "0873be1b-476b-461f-935f-9c6a256fc489"
   },
   "source": [
    "### Detailed description of the components in the Review data:"
   ]
  },
  {
   "cell_type": "markdown",
   "id": "92d86ca5-0211-4aac-bab9-eb96a9da6181",
   "metadata": {
    "id": "92d86ca5-0211-4aac-bab9-eb96a9da6181"
   },
   "source": [
    "* review_id: string, 22 character unique review id\n",
    "* user_id: string, 22 character unique user id, maps to the user in user.json\n",
    "* business_id: string, 22 character business id, maps to business in business.json\n",
    "* stars: integer, star rating\n",
    "* date: string, date formatted YYYY-MM-DD\n",
    "* text: string, the review itself\n",
    "* useful: integer, number of useful votes received\n",
    "* funny: integer, number of funny votes received\n",
    "* cool: integer, number of cool votes received"
   ]
  },
  {
   "cell_type": "code",
   "execution_count": null,
   "id": "dae39e34-39c1-4357-b995-bc490659e126",
   "metadata": {
    "id": "dae39e34-39c1-4357-b995-bc490659e126",
    "outputId": "aed6dc5f-bddb-4cc5-ca99-cc1fbb1de71e"
   },
   "outputs": [
    {
     "data": {
      "text/html": [
       "<div>\n",
       "<style scoped>\n",
       "    .dataframe tbody tr th:only-of-type {\n",
       "        vertical-align: middle;\n",
       "    }\n",
       "\n",
       "    .dataframe tbody tr th {\n",
       "        vertical-align: top;\n",
       "    }\n",
       "\n",
       "    .dataframe thead th {\n",
       "        text-align: right;\n",
       "    }\n",
       "</style>\n",
       "<table border=\"1\" class=\"dataframe\">\n",
       "  <thead>\n",
       "    <tr style=\"text-align: right;\">\n",
       "      <th></th>\n",
       "      <th>review_id</th>\n",
       "      <th>user_id</th>\n",
       "      <th>business_id</th>\n",
       "      <th>stars</th>\n",
       "      <th>useful</th>\n",
       "      <th>funny</th>\n",
       "      <th>cool</th>\n",
       "      <th>text</th>\n",
       "      <th>date</th>\n",
       "    </tr>\n",
       "  </thead>\n",
       "  <tbody>\n",
       "    <tr>\n",
       "      <th>0</th>\n",
       "      <td>KU_O5udG6zpxOg-VcAEodg</td>\n",
       "      <td>mh_-eMZ6K5RLWhZyISBhwA</td>\n",
       "      <td>XQfwVwDr-v0ZS3_CbbE5Xw</td>\n",
       "      <td>3.0</td>\n",
       "      <td>0</td>\n",
       "      <td>0</td>\n",
       "      <td>0</td>\n",
       "      <td>If you decide to eat here, just be aware it is...</td>\n",
       "      <td>2018-07-07 22:09:11</td>\n",
       "    </tr>\n",
       "    <tr>\n",
       "      <th>1</th>\n",
       "      <td>BiTunyQ73aT9WBnpR9DZGw</td>\n",
       "      <td>OyoGAe7OKpv6SyGZT5g77Q</td>\n",
       "      <td>7ATYjTIgM3jUlt4UM3IypQ</td>\n",
       "      <td>5.0</td>\n",
       "      <td>1</td>\n",
       "      <td>0</td>\n",
       "      <td>1</td>\n",
       "      <td>I've taken a lot of spin classes over the year...</td>\n",
       "      <td>2012-01-03 15:28:18</td>\n",
       "    </tr>\n",
       "    <tr>\n",
       "      <th>2</th>\n",
       "      <td>saUsX_uimxRlCVr67Z4Jig</td>\n",
       "      <td>8g_iMtfSiwikVnbP2etR0A</td>\n",
       "      <td>YjUWPpI6HXG530lwP-fb2A</td>\n",
       "      <td>3.0</td>\n",
       "      <td>0</td>\n",
       "      <td>0</td>\n",
       "      <td>0</td>\n",
       "      <td>Family diner. Had the buffet. Eclectic assortm...</td>\n",
       "      <td>2014-02-05 20:30:30</td>\n",
       "    </tr>\n",
       "    <tr>\n",
       "      <th>3</th>\n",
       "      <td>AqPFMleE6RsU23_auESxiA</td>\n",
       "      <td>_7bHUi9Uuf5__HHc_Q8guQ</td>\n",
       "      <td>kxX2SOes4o-D3ZQBkiMRfA</td>\n",
       "      <td>5.0</td>\n",
       "      <td>1</td>\n",
       "      <td>0</td>\n",
       "      <td>1</td>\n",
       "      <td>Wow!  Yummy, different,  delicious.   Our favo...</td>\n",
       "      <td>2015-01-04 00:01:03</td>\n",
       "    </tr>\n",
       "    <tr>\n",
       "      <th>4</th>\n",
       "      <td>Sx8TMOWLNuJBWer-0pcmoA</td>\n",
       "      <td>bcjbaE6dDog4jkNY91ncLQ</td>\n",
       "      <td>e4Vwtrqf-wpJfwesgvdgxQ</td>\n",
       "      <td>4.0</td>\n",
       "      <td>1</td>\n",
       "      <td>0</td>\n",
       "      <td>1</td>\n",
       "      <td>Cute interior and owner (?) gave us tour of up...</td>\n",
       "      <td>2017-01-14 20:54:15</td>\n",
       "    </tr>\n",
       "  </tbody>\n",
       "</table>\n",
       "</div>"
      ],
      "text/plain": [
       "                review_id                 user_id             business_id  \\\n",
       "0  KU_O5udG6zpxOg-VcAEodg  mh_-eMZ6K5RLWhZyISBhwA  XQfwVwDr-v0ZS3_CbbE5Xw   \n",
       "1  BiTunyQ73aT9WBnpR9DZGw  OyoGAe7OKpv6SyGZT5g77Q  7ATYjTIgM3jUlt4UM3IypQ   \n",
       "2  saUsX_uimxRlCVr67Z4Jig  8g_iMtfSiwikVnbP2etR0A  YjUWPpI6HXG530lwP-fb2A   \n",
       "3  AqPFMleE6RsU23_auESxiA  _7bHUi9Uuf5__HHc_Q8guQ  kxX2SOes4o-D3ZQBkiMRfA   \n",
       "4  Sx8TMOWLNuJBWer-0pcmoA  bcjbaE6dDog4jkNY91ncLQ  e4Vwtrqf-wpJfwesgvdgxQ   \n",
       "\n",
       "   stars  useful  funny  cool  \\\n",
       "0    3.0       0      0     0   \n",
       "1    5.0       1      0     1   \n",
       "2    3.0       0      0     0   \n",
       "3    5.0       1      0     1   \n",
       "4    4.0       1      0     1   \n",
       "\n",
       "                                                text                 date  \n",
       "0  If you decide to eat here, just be aware it is...  2018-07-07 22:09:11  \n",
       "1  I've taken a lot of spin classes over the year...  2012-01-03 15:28:18  \n",
       "2  Family diner. Had the buffet. Eclectic assortm...  2014-02-05 20:30:30  \n",
       "3  Wow!  Yummy, different,  delicious.   Our favo...  2015-01-04 00:01:03  \n",
       "4  Cute interior and owner (?) gave us tour of up...  2017-01-14 20:54:15  "
      ]
     },
     "execution_count": 62,
     "metadata": {},
     "output_type": "execute_result"
    }
   ],
   "source": [
    "review.head()"
   ]
  },
  {
   "cell_type": "code",
   "execution_count": null,
   "id": "0a33c928-0deb-47fc-aff5-457ef4f06c5f",
   "metadata": {
    "id": "0a33c928-0deb-47fc-aff5-457ef4f06c5f",
    "outputId": "f9b67eba-f5d1-4a71-9f55-acb130958bb0"
   },
   "outputs": [
    {
     "data": {
      "text/html": [
       "<div>\n",
       "<style scoped>\n",
       "    .dataframe tbody tr th:only-of-type {\n",
       "        vertical-align: middle;\n",
       "    }\n",
       "\n",
       "    .dataframe tbody tr th {\n",
       "        vertical-align: top;\n",
       "    }\n",
       "\n",
       "    .dataframe thead th {\n",
       "        text-align: right;\n",
       "    }\n",
       "</style>\n",
       "<table border=\"1\" class=\"dataframe\">\n",
       "  <thead>\n",
       "    <tr style=\"text-align: right;\">\n",
       "      <th></th>\n",
       "      <th>count</th>\n",
       "      <th>mean</th>\n",
       "      <th>std</th>\n",
       "      <th>min</th>\n",
       "      <th>25%</th>\n",
       "      <th>50%</th>\n",
       "      <th>75%</th>\n",
       "      <th>max</th>\n",
       "    </tr>\n",
       "  </thead>\n",
       "  <tbody>\n",
       "    <tr>\n",
       "      <th>stars</th>\n",
       "      <td>6990280.0</td>\n",
       "      <td>3.748584</td>\n",
       "      <td>1.478705</td>\n",
       "      <td>1.0</td>\n",
       "      <td>3.0</td>\n",
       "      <td>4.0</td>\n",
       "      <td>5.0</td>\n",
       "      <td>5.0</td>\n",
       "    </tr>\n",
       "    <tr>\n",
       "      <th>useful</th>\n",
       "      <td>6990280.0</td>\n",
       "      <td>1.184609</td>\n",
       "      <td>3.253767</td>\n",
       "      <td>-1.0</td>\n",
       "      <td>0.0</td>\n",
       "      <td>0.0</td>\n",
       "      <td>1.0</td>\n",
       "      <td>1182.0</td>\n",
       "    </tr>\n",
       "    <tr>\n",
       "      <th>funny</th>\n",
       "      <td>6990280.0</td>\n",
       "      <td>0.326560</td>\n",
       "      <td>1.688729</td>\n",
       "      <td>-1.0</td>\n",
       "      <td>0.0</td>\n",
       "      <td>0.0</td>\n",
       "      <td>0.0</td>\n",
       "      <td>792.0</td>\n",
       "    </tr>\n",
       "    <tr>\n",
       "      <th>cool</th>\n",
       "      <td>6990280.0</td>\n",
       "      <td>0.498618</td>\n",
       "      <td>2.172460</td>\n",
       "      <td>-1.0</td>\n",
       "      <td>0.0</td>\n",
       "      <td>0.0</td>\n",
       "      <td>0.0</td>\n",
       "      <td>404.0</td>\n",
       "    </tr>\n",
       "  </tbody>\n",
       "</table>\n",
       "</div>"
      ],
      "text/plain": [
       "            count      mean       std  min  25%  50%  75%     max\n",
       "stars   6990280.0  3.748584  1.478705  1.0  3.0  4.0  5.0     5.0\n",
       "useful  6990280.0  1.184609  3.253767 -1.0  0.0  0.0  1.0  1182.0\n",
       "funny   6990280.0  0.326560  1.688729 -1.0  0.0  0.0  0.0   792.0\n",
       "cool    6990280.0  0.498618  2.172460 -1.0  0.0  0.0  0.0   404.0"
      ]
     },
     "execution_count": 63,
     "metadata": {},
     "output_type": "execute_result"
    }
   ],
   "source": [
    "review.describe().T"
   ]
  },
  {
   "cell_type": "code",
   "execution_count": null,
   "id": "8f071fbb-6a12-4952-9196-eb435b07d032",
   "metadata": {
    "id": "8f071fbb-6a12-4952-9196-eb435b07d032",
    "outputId": "b8ee526b-f2e7-413b-ffe6-06d6cb8acd8a"
   },
   "outputs": [
    {
     "data": {
      "text/plain": [
       "<bound method DataFrame.info of                       review_id                 user_id  \\\n",
       "0        KU_O5udG6zpxOg-VcAEodg  mh_-eMZ6K5RLWhZyISBhwA   \n",
       "1        BiTunyQ73aT9WBnpR9DZGw  OyoGAe7OKpv6SyGZT5g77Q   \n",
       "2        saUsX_uimxRlCVr67Z4Jig  8g_iMtfSiwikVnbP2etR0A   \n",
       "3        AqPFMleE6RsU23_auESxiA  _7bHUi9Uuf5__HHc_Q8guQ   \n",
       "4        Sx8TMOWLNuJBWer-0pcmoA  bcjbaE6dDog4jkNY91ncLQ   \n",
       "...                         ...                     ...   \n",
       "6990275  H0RIamZu0B0Ei0P4aeh3sQ  qskILQ3k0I_qcCMI-k6_QQ   \n",
       "6990276  shTPgbgdwTHSuU67mGCmZQ  Zo0th2m8Ez4gLSbHftiQvg   \n",
       "6990277  YNfNhgZlaaCO5Q_YJR4rEw  mm6E4FbCMwJmb7kPDZ5v2Q   \n",
       "6990278  i-I4ZOhoX70Nw5H0FwrQUA  YwAMC-jvZ1fvEUum6QkEkw   \n",
       "6990279  RwcKOdEuLRHNJe4M9-qpqg  6JehEvdoCvZPJ_XIxnzIIw   \n",
       "\n",
       "                    business_id  stars  useful  funny  cool  \\\n",
       "0        XQfwVwDr-v0ZS3_CbbE5Xw    3.0       0      0     0   \n",
       "1        7ATYjTIgM3jUlt4UM3IypQ    5.0       1      0     1   \n",
       "2        YjUWPpI6HXG530lwP-fb2A    3.0       0      0     0   \n",
       "3        kxX2SOes4o-D3ZQBkiMRfA    5.0       1      0     1   \n",
       "4        e4Vwtrqf-wpJfwesgvdgxQ    4.0       1      0     1   \n",
       "...                         ...    ...     ...    ...   ...   \n",
       "6990275  jals67o91gcrD4DC81Vk6w    5.0       1      2     1   \n",
       "6990276  2vLksaMmSEcGbjI5gywpZA    5.0       2      1     2   \n",
       "6990277  R1khUUxidqfaJmcpmGd4aw    4.0       1      0     0   \n",
       "6990278  Rr9kKArrMhSLVE9a53q-aA    5.0       1      0     0   \n",
       "6990279  VAeEXLbEcI9Emt9KGYq9aA    3.0      10      3     7   \n",
       "\n",
       "                                                      text  \\\n",
       "0        If you decide to eat here, just be aware it is...   \n",
       "1        I've taken a lot of spin classes over the year...   \n",
       "2        Family diner. Had the buffet. Eclectic assortm...   \n",
       "3        Wow!  Yummy, different,  delicious.   Our favo...   \n",
       "4        Cute interior and owner (?) gave us tour of up...   \n",
       "...                                                    ...   \n",
       "6990275  Latest addition to services from ICCU is Apple...   \n",
       "6990276  This spot offers a great, affordable east week...   \n",
       "6990277  This Home Depot won me over when I needed to g...   \n",
       "6990278  For when I'm feeling like ignoring my calorie-...   \n",
       "6990279  Located in the 'Walking District' in Nashville...   \n",
       "\n",
       "                        date  \n",
       "0        2018-07-07 22:09:11  \n",
       "1        2012-01-03 15:28:18  \n",
       "2        2014-02-05 20:30:30  \n",
       "3        2015-01-04 00:01:03  \n",
       "4        2017-01-14 20:54:15  \n",
       "...                      ...  \n",
       "6990275  2014-12-17 21:45:20  \n",
       "6990276  2021-03-31 16:55:10  \n",
       "6990277  2019-12-30 03:56:30  \n",
       "6990278  2022-01-19 18:59:27  \n",
       "6990279  2018-01-02 22:50:47  \n",
       "\n",
       "[6990280 rows x 9 columns]>"
      ]
     },
     "execution_count": 66,
     "metadata": {},
     "output_type": "execute_result"
    }
   ],
   "source": [
    "review.info"
   ]
  },
  {
   "cell_type": "code",
   "execution_count": null,
   "id": "930208c4-d8b8-4e3e-bb16-5caed82933a9",
   "metadata": {
    "id": "930208c4-d8b8-4e3e-bb16-5caed82933a9",
    "outputId": "20e0c390-0cd3-4cd5-ab28-4f14c4cc9c5f"
   },
   "outputs": [
    {
     "data": {
      "text/plain": [
       "review_id       object\n",
       "user_id         object\n",
       "business_id     object\n",
       "stars          float64\n",
       "useful           int64\n",
       "funny            int64\n",
       "cool             int64\n",
       "text            object\n",
       "date            object\n",
       "dtype: object"
      ]
     },
     "execution_count": 67,
     "metadata": {},
     "output_type": "execute_result"
    }
   ],
   "source": [
    "review.dtypes"
   ]
  },
  {
   "cell_type": "code",
   "execution_count": null,
   "id": "5d8219d1-adc7-431b-bf37-fe8b5e255eba",
   "metadata": {
    "id": "5d8219d1-adc7-431b-bf37-fe8b5e255eba",
    "outputId": "ab2ec8c4-0466-40eb-c884-43f389ea7abe"
   },
   "outputs": [
    {
     "data": {
      "text/plain": [
       "<AxesSubplot:>"
      ]
     },
     "execution_count": 68,
     "metadata": {},
     "output_type": "execute_result"
    },
    {
     "data": {
      "image/png": "[encoded data removed]",
      "text/plain": [
       "<Figure size 432x288 with 1 Axes>"
      ]
     },
     "metadata": {
      "needs_background": "light"
     },
     "output_type": "display_data"
    }
   ],
   "source": [
    "# box plot of stars\n",
    "review[['stars']].boxplot()"
   ]
  },
  {
   "cell_type": "code",
   "execution_count": null,
   "id": "16dd6227-ebed-428b-b3f2-e39de3db95c8",
   "metadata": {
    "id": "16dd6227-ebed-428b-b3f2-e39de3db95c8",
    "outputId": "cbe30437-07bd-48d1-a90a-479af1efcd1b"
   },
   "outputs": [
    {
     "data": {
      "text/plain": [
       "<AxesSubplot:>"
      ]
     },
     "execution_count": 69,
     "metadata": {},
     "output_type": "execute_result"
    },
    {
     "data": {
      "image/png": "[encoded data removed]",
      "text/plain": [
       "<Figure size 432x288 with 1 Axes>"
      ]
     },
     "metadata": {
      "needs_background": "light"
     },
     "output_type": "display_data"
    }
   ],
   "source": [
    "# box plot of useful\n",
    "review[['useful']].boxplot()"
   ]
  },
  {
   "cell_type": "code",
   "execution_count": null,
   "id": "8e76120f-99bb-42cf-9a71-91c25d1de7fa",
   "metadata": {
    "id": "8e76120f-99bb-42cf-9a71-91c25d1de7fa",
    "outputId": "fb671427-b95d-4071-ae14-734db04a7f79"
   },
   "outputs": [
    {
     "data": {
      "text/plain": [
       "<AxesSubplot:>"
      ]
     },
     "execution_count": 70,
     "metadata": {},
     "output_type": "execute_result"
    },
    {
     "data": {
      "image/png": "[encoded data removed]",
      "text/plain": [
       "<Figure size 432x288 with 1 Axes>"
      ]
     },
     "metadata": {
      "needs_background": "light"
     },
     "output_type": "display_data"
    }
   ],
   "source": [
    "# box plot of funny\n",
    "review[['funny']].boxplot()"
   ]
  },
  {
   "cell_type": "code",
   "execution_count": null,
   "id": "e4076fbf-370f-4d6b-a895-0059aa1f4a8b",
   "metadata": {
    "id": "e4076fbf-370f-4d6b-a895-0059aa1f4a8b",
    "outputId": "6158489c-5e93-4b2e-d466-f4fd4ec2fc61"
   },
   "outputs": [
    {
     "data": {
      "text/plain": [
       "<AxesSubplot:>"
      ]
     },
     "execution_count": 71,
     "metadata": {},
     "output_type": "execute_result"
    },
    {
     "data": {
      "image/png": "[encoded data removed]",
      "text/plain": [
       "<Figure size 432x288 with 1 Axes>"
      ]
     },
     "metadata": {
      "needs_background": "light"
     },
     "output_type": "display_data"
    }
   ],
   "source": [
    "# box plot of cool\n",
    "review[['cool']].boxplot()"
   ]
  },
  {
   "cell_type": "code",
   "execution_count": null,
   "id": "f976dea8-a739-4870-b37c-7e107b3e2708",
   "metadata": {
    "id": "f976dea8-a739-4870-b37c-7e107b3e2708",
    "outputId": "af802853-b391-4e1f-eeba-f4c7dfe41a97"
   },
   "outputs": [
    {
     "data": {
      "text/plain": [
       "review_id      0\n",
       "user_id        0\n",
       "business_id    0\n",
       "stars          0\n",
       "useful         0\n",
       "funny          0\n",
       "cool           0\n",
       "text           0\n",
       "date           0\n",
       "dtype: int64"
      ]
     },
     "execution_count": 72,
     "metadata": {},
     "output_type": "execute_result"
    }
   ],
   "source": [
    "# handling missing values for review\n",
    "\n",
    "review.isnull().sum()"
   ]
  },
  {
   "cell_type": "code",
   "execution_count": null,
   "id": "ffa52785-05e5-4274-beb6-8356cd8a151d",
   "metadata": {
    "id": "ffa52785-05e5-4274-beb6-8356cd8a151d"
   },
   "outputs": [],
   "source": [
    "# replace null valuew with 0\n",
    "review.replace(np.nan,'0',inplace=True)\n",
    "\n",
    "review.isnull().sum()"
   ]
  },
  {
   "cell_type": "code",
   "execution_count": null,
   "id": "e4657fd8-a9be-43e0-b5ec-c393f0b5f967",
   "metadata": {
    "id": "e4657fd8-a9be-43e0-b5ec-c393f0b5f967",
    "outputId": "6ed1d466-4e5b-4e73-9218-61fa431653f4"
   },
   "outputs": [
    {
     "data": {
      "image/png": "[encoded data removed]",
      "text/plain": [
       "<Figure size 1008x864 with 2 Axes>"
      ]
     },
     "metadata": {
      "needs_background": "light"
     },
     "output_type": "display_data"
    }
   ],
   "source": [
    "#create the correlation matrix heat map\n",
    "plt.figure(figsize=(14,12))\n",
    "\n",
    "sns.heatmap(review.corr(),linewidths=.1,cmap=\"YlGnBu\", annot=True)\n",
    "plt.title('Heatmap of the Review Data',fontsize=25)\n",
    "\n",
    "plt.yticks(rotation=0);"
   ]
  },
  {
   "cell_type": "markdown",
   "id": "315cb4ae-d077-463b-bb9e-6ea249935e28",
   "metadata": {
    "id": "315cb4ae-d077-463b-bb9e-6ea249935e28"
   },
   "source": [
    "## Part 2.4: Dataset Tip"
   ]
  },
  {
   "cell_type": "markdown",
   "id": "88f85896-b1ef-4ce9-834c-9ec538a74deb",
   "metadata": {
    "id": "88f85896-b1ef-4ce9-834c-9ec538a74deb"
   },
   "source": [
    "### Detailed description of the components in the Tip data:"
   ]
  },
  {
   "cell_type": "markdown",
   "id": "941b2266-1af9-46a4-847e-899a268bbfe8",
   "metadata": {
    "id": "941b2266-1af9-46a4-847e-899a268bbfe8"
   },
   "source": [
    "* text: string, text of the tip\n",
    "* date: string, when the tip was written, formatted like YYYY-MM-DD\n",
    "* compliment_count: integer, how many compliments it has\n",
    "* business_id: string, 22 character business id, maps to business in business.json\n",
    "* user_id: string, 22 character unique user id, maps to the user in user.json"
   ]
  },
  {
   "cell_type": "code",
   "execution_count": null,
   "id": "f0323817-4848-4548-9277-fb77affb8bb4",
   "metadata": {
    "id": "f0323817-4848-4548-9277-fb77affb8bb4",
    "outputId": "01198e5b-b527-420a-c377-b7b33de550a4"
   },
   "outputs": [
    {
     "data": {
      "text/html": [
       "<div>\n",
       "<style scoped>\n",
       "    .dataframe tbody tr th:only-of-type {\n",
       "        vertical-align: middle;\n",
       "    }\n",
       "\n",
       "    .dataframe tbody tr th {\n",
       "        vertical-align: top;\n",
       "    }\n",
       "\n",
       "    .dataframe thead th {\n",
       "        text-align: right;\n",
       "    }\n",
       "</style>\n",
       "<table border=\"1\" class=\"dataframe\">\n",
       "  <thead>\n",
       "    <tr style=\"text-align: right;\">\n",
       "      <th></th>\n",
       "      <th>user_id</th>\n",
       "      <th>business_id</th>\n",
       "      <th>text</th>\n",
       "      <th>date</th>\n",
       "      <th>compliment_count</th>\n",
       "    </tr>\n",
       "  </thead>\n",
       "  <tbody>\n",
       "    <tr>\n",
       "      <th>0</th>\n",
       "      <td>AGNUgVwnZUey3gcPCJ76iw</td>\n",
       "      <td>3uLgwr0qeCNMjKenHJwPGQ</td>\n",
       "      <td>Avengers time with the ladies.</td>\n",
       "      <td>2012-05-18 02:17:21</td>\n",
       "      <td>0</td>\n",
       "    </tr>\n",
       "    <tr>\n",
       "      <th>1</th>\n",
       "      <td>NBN4MgHP9D3cw--SnauTkA</td>\n",
       "      <td>QoezRbYQncpRqyrLH6Iqjg</td>\n",
       "      <td>They have lots of good deserts and tasty cuban...</td>\n",
       "      <td>2013-02-05 18:35:10</td>\n",
       "      <td>0</td>\n",
       "    </tr>\n",
       "    <tr>\n",
       "      <th>2</th>\n",
       "      <td>-copOvldyKh1qr-vzkDEvw</td>\n",
       "      <td>MYoRNLb5chwjQe3c_k37Gg</td>\n",
       "      <td>It's open even when you think it isn't</td>\n",
       "      <td>2013-08-18 00:56:08</td>\n",
       "      <td>0</td>\n",
       "    </tr>\n",
       "    <tr>\n",
       "      <th>3</th>\n",
       "      <td>FjMQVZjSqY8syIO-53KFKw</td>\n",
       "      <td>hV-bABTK-glh5wj31ps_Jw</td>\n",
       "      <td>Very decent fried chicken</td>\n",
       "      <td>2017-06-27 23:05:38</td>\n",
       "      <td>0</td>\n",
       "    </tr>\n",
       "    <tr>\n",
       "      <th>4</th>\n",
       "      <td>ld0AperBXk1h6UbqmM80zw</td>\n",
       "      <td>_uN0OudeJ3Zl_tf6nxg5ww</td>\n",
       "      <td>Appetizers.. platter special for lunch</td>\n",
       "      <td>2012-10-06 19:43:09</td>\n",
       "      <td>0</td>\n",
       "    </tr>\n",
       "  </tbody>\n",
       "</table>\n",
       "</div>"
      ],
      "text/plain": [
       "                  user_id             business_id  \\\n",
       "0  AGNUgVwnZUey3gcPCJ76iw  3uLgwr0qeCNMjKenHJwPGQ   \n",
       "1  NBN4MgHP9D3cw--SnauTkA  QoezRbYQncpRqyrLH6Iqjg   \n",
       "2  -copOvldyKh1qr-vzkDEvw  MYoRNLb5chwjQe3c_k37Gg   \n",
       "3  FjMQVZjSqY8syIO-53KFKw  hV-bABTK-glh5wj31ps_Jw   \n",
       "4  ld0AperBXk1h6UbqmM80zw  _uN0OudeJ3Zl_tf6nxg5ww   \n",
       "\n",
       "                                                text                 date  \\\n",
       "0                     Avengers time with the ladies.  2012-05-18 02:17:21   \n",
       "1  They have lots of good deserts and tasty cuban...  2013-02-05 18:35:10   \n",
       "2             It's open even when you think it isn't  2013-08-18 00:56:08   \n",
       "3                          Very decent fried chicken  2017-06-27 23:05:38   \n",
       "4             Appetizers.. platter special for lunch  2012-10-06 19:43:09   \n",
       "\n",
       "   compliment_count  \n",
       "0                 0  \n",
       "1                 0  \n",
       "2                 0  \n",
       "3                 0  \n",
       "4                 0  "
      ]
     },
     "execution_count": 76,
     "metadata": {},
     "output_type": "execute_result"
    }
   ],
   "source": [
    "tip.head()"
   ]
  },
  {
   "cell_type": "code",
   "execution_count": null,
   "id": "d0057e20-5d01-43ba-9c9b-d4f1a6bfb197",
   "metadata": {
    "id": "d0057e20-5d01-43ba-9c9b-d4f1a6bfb197",
    "outputId": "ce5c0a49-56d4-4690-ab8a-17808be18ca3"
   },
   "outputs": [
    {
     "data": {
      "text/html": [
       "<div>\n",
       "<style scoped>\n",
       "    .dataframe tbody tr th:only-of-type {\n",
       "        vertical-align: middle;\n",
       "    }\n",
       "\n",
       "    .dataframe tbody tr th {\n",
       "        vertical-align: top;\n",
       "    }\n",
       "\n",
       "    .dataframe thead th {\n",
       "        text-align: right;\n",
       "    }\n",
       "</style>\n",
       "<table border=\"1\" class=\"dataframe\">\n",
       "  <thead>\n",
       "    <tr style=\"text-align: right;\">\n",
       "      <th></th>\n",
       "      <th>count</th>\n",
       "      <th>mean</th>\n",
       "      <th>std</th>\n",
       "      <th>min</th>\n",
       "      <th>25%</th>\n",
       "      <th>50%</th>\n",
       "      <th>75%</th>\n",
       "      <th>max</th>\n",
       "    </tr>\n",
       "  </thead>\n",
       "  <tbody>\n",
       "    <tr>\n",
       "      <th>compliment_count</th>\n",
       "      <td>908915.0</td>\n",
       "      <td>0.012525</td>\n",
       "      <td>0.120763</td>\n",
       "      <td>0.0</td>\n",
       "      <td>0.0</td>\n",
       "      <td>0.0</td>\n",
       "      <td>0.0</td>\n",
       "      <td>6.0</td>\n",
       "    </tr>\n",
       "  </tbody>\n",
       "</table>\n",
       "</div>"
      ],
      "text/plain": [
       "                     count      mean       std  min  25%  50%  75%  max\n",
       "compliment_count  908915.0  0.012525  0.120763  0.0  0.0  0.0  0.0  6.0"
      ]
     },
     "execution_count": 77,
     "metadata": {},
     "output_type": "execute_result"
    }
   ],
   "source": [
    "tip.describe().T"
   ]
  },
  {
   "cell_type": "code",
   "execution_count": null,
   "id": "c3d36791-5c29-4d1e-995b-50efd96e192e",
   "metadata": {
    "id": "c3d36791-5c29-4d1e-995b-50efd96e192e",
    "outputId": "3ce18220-f0db-4af2-e5ee-fe3fe4dbfc64"
   },
   "outputs": [
    {
     "data": {
      "text/plain": [
       "<bound method DataFrame.info of                        user_id             business_id  \\\n",
       "0       AGNUgVwnZUey3gcPCJ76iw  3uLgwr0qeCNMjKenHJwPGQ   \n",
       "1       NBN4MgHP9D3cw--SnauTkA  QoezRbYQncpRqyrLH6Iqjg   \n",
       "2       -copOvldyKh1qr-vzkDEvw  MYoRNLb5chwjQe3c_k37Gg   \n",
       "3       FjMQVZjSqY8syIO-53KFKw  hV-bABTK-glh5wj31ps_Jw   \n",
       "4       ld0AperBXk1h6UbqmM80zw  _uN0OudeJ3Zl_tf6nxg5ww   \n",
       "...                        ...                     ...   \n",
       "908910  eYodOTF8pkqKPzHkcxZs-Q  3lHTewuKFt5IImbXJoFeDQ   \n",
       "908911  1uxtQAuJ2T5Xwa_wp7kUnA  OaGf0Dp56ARhQwIDT90w_g   \n",
       "908912  v48Spe6WEpqehsF2xQADpg  hYnMeAO77RGyTtIzUSKYzQ   \n",
       "908913  ckqKGM2hl7I9Chp5IpAhkw  s2eyoTuJrcP7I_XyjdhUHQ   \n",
       "908914  4tF1CWdMxvvwpUIgGsDygA  _cb1Vg1NIWry8UA0jyuXnQ   \n",
       "\n",
       "                                                     text  \\\n",
       "0                          Avengers time with the ladies.   \n",
       "1       They have lots of good deserts and tasty cuban...   \n",
       "2                  It's open even when you think it isn't   \n",
       "3                               Very decent fried chicken   \n",
       "4                  Appetizers.. platter special for lunch   \n",
       "...                                                   ...   \n",
       "908910              Disappointed in one of your managers.   \n",
       "908911                            Great food and service.   \n",
       "908912                                Love their Cubans!!   \n",
       "908913                            Great pizza great price   \n",
       "908914                  Food is good value but a bit hot!   \n",
       "\n",
       "                       date  compliment_count  \n",
       "0       2012-05-18 02:17:21                 0  \n",
       "1       2013-02-05 18:35:10                 0  \n",
       "2       2013-08-18 00:56:08                 0  \n",
       "3       2017-06-27 23:05:38                 0  \n",
       "4       2012-10-06 19:43:09                 0  \n",
       "...                     ...               ...  \n",
       "908910  2021-09-11 19:18:57                 0  \n",
       "908911  2021-10-30 11:54:36                 0  \n",
       "908912  2021-11-05 13:18:56                 0  \n",
       "908913  2021-11-20 16:11:44                 0  \n",
       "908914  2021-12-07 22:30:00                 0  \n",
       "\n",
       "[908915 rows x 5 columns]>"
      ]
     },
     "execution_count": 80,
     "metadata": {},
     "output_type": "execute_result"
    }
   ],
   "source": [
    "tip.info"
   ]
  },
  {
   "cell_type": "code",
   "execution_count": null,
   "id": "af957aa1-a843-453c-be2d-01284f740eb8",
   "metadata": {
    "id": "af957aa1-a843-453c-be2d-01284f740eb8",
    "outputId": "b7143330-7032-426d-9a01-05fc0d3c01ca"
   },
   "outputs": [
    {
     "data": {
      "text/plain": [
       "user_id             object\n",
       "business_id         object\n",
       "text                object\n",
       "date                object\n",
       "compliment_count     int64\n",
       "dtype: object"
      ]
     },
     "execution_count": 81,
     "metadata": {},
     "output_type": "execute_result"
    }
   ],
   "source": [
    "tip.dtypes"
   ]
  },
  {
   "cell_type": "code",
   "execution_count": null,
   "id": "def76dac-53af-41b5-a5df-abd79a868ef3",
   "metadata": {
    "id": "def76dac-53af-41b5-a5df-abd79a868ef3",
    "outputId": "7e86c4a6-a459-42ac-adb7-f8087935dd57"
   },
   "outputs": [
    {
     "data": {
      "text/plain": [
       "user_id             0\n",
       "business_id         0\n",
       "text                0\n",
       "date                0\n",
       "compliment_count    0\n",
       "dtype: int64"
      ]
     },
     "execution_count": 82,
     "metadata": {},
     "output_type": "execute_result"
    }
   ],
   "source": [
    "# handling missing values for tip\n",
    "\n",
    "tip.isnull().sum()"
   ]
  },
  {
   "cell_type": "code",
   "execution_count": null,
   "id": "2c3ff3e3-030a-4165-909d-47be14fc6d89",
   "metadata": {
    "id": "2c3ff3e3-030a-4165-909d-47be14fc6d89",
    "outputId": "55913ba4-1df8-4c9c-9a46-8a72f52a7423"
   },
   "outputs": [
    {
     "data": {
      "text/plain": [
       "user_id             0\n",
       "business_id         0\n",
       "text                0\n",
       "date                0\n",
       "compliment_count    0\n",
       "dtype: int64"
      ]
     },
     "execution_count": 83,
     "metadata": {},
     "output_type": "execute_result"
    }
   ],
   "source": [
    "# replace null value with 0\n",
    "tip.replace(np.nan,'0',inplace=True)\n",
    "\n",
    "tip.isnull().sum()"
   ]
  },
  {
   "cell_type": "markdown",
   "id": "105b6063-1114-4e57-b270-1d83de47b139",
   "metadata": {
    "id": "105b6063-1114-4e57-b270-1d83de47b139"
   },
   "source": [
    "# Part 3: Merge Data & Sampling & Sampling Distribution"
   ]
  },
  {
   "cell_type": "markdown",
   "id": "aa49c228-6c96-4564-b5ee-0a4856f3b020",
   "metadata": {
    "id": "aa49c228-6c96-4564-b5ee-0a4856f3b020"
   },
   "source": [
    "### Data processing steps that we took:"
   ]
  },
  {
   "cell_type": "markdown",
   "id": "b08cc0d2-dc5d-47d6-9152-74e17288dfa5",
   "metadata": {
    "id": "b08cc0d2-dc5d-47d6-9152-74e17288dfa5"
   },
   "source": [
    "We checked the outliers, null values and duplicated values in the datasets. We also merged the User Data and Review Data (6.99 millions of rows), and then random sampled 30 thousands rows of the data."
   ]
  },
  {
   "cell_type": "code",
   "execution_count": null,
   "id": "e72d0e4f-c497-45d6-aa11-cd745710e998",
   "metadata": {
    "id": "e72d0e4f-c497-45d6-aa11-cd745710e998",
    "outputId": "88388cf8-23ce-4f9b-b5db-17d154f32a72"
   },
   "outputs": [
    {
     "data": {
      "text/html": [
       "<div>\n",
       "<style scoped>\n",
       "    .dataframe tbody tr th:only-of-type {\n",
       "        vertical-align: middle;\n",
       "    }\n",
       "\n",
       "    .dataframe tbody tr th {\n",
       "        vertical-align: top;\n",
       "    }\n",
       "\n",
       "    .dataframe thead th {\n",
       "        text-align: right;\n",
       "    }\n",
       "</style>\n",
       "<table border=\"1\" class=\"dataframe\">\n",
       "  <thead>\n",
       "    <tr style=\"text-align: right;\">\n",
       "      <th></th>\n",
       "      <th>user_id</th>\n",
       "      <th>name</th>\n",
       "      <th>review_count</th>\n",
       "      <th>yelping_since</th>\n",
       "      <th>useful_x</th>\n",
       "      <th>funny_x</th>\n",
       "      <th>cool_x</th>\n",
       "      <th>elite</th>\n",
       "      <th>friends</th>\n",
       "      <th>fans</th>\n",
       "      <th>...</th>\n",
       "      <th>compliment_writer</th>\n",
       "      <th>compliment_photos</th>\n",
       "      <th>review_id</th>\n",
       "      <th>business_id</th>\n",
       "      <th>stars</th>\n",
       "      <th>useful_y</th>\n",
       "      <th>funny_y</th>\n",
       "      <th>cool_y</th>\n",
       "      <th>text</th>\n",
       "      <th>date</th>\n",
       "    </tr>\n",
       "  </thead>\n",
       "  <tbody>\n",
       "    <tr>\n",
       "      <th>0</th>\n",
       "      <td>qVc8ODYU5SZjKXVBgXdI7w</td>\n",
       "      <td>Walker</td>\n",
       "      <td>585</td>\n",
       "      <td>2007-01-25 16:47:26</td>\n",
       "      <td>7217</td>\n",
       "      <td>1259</td>\n",
       "      <td>5994</td>\n",
       "      <td>2007</td>\n",
       "      <td>NSCy54eWehBJyZdG2iE84w, pe42u7DcCH2QmI81NX-8qA...</td>\n",
       "      <td>267</td>\n",
       "      <td>...</td>\n",
       "      <td>239</td>\n",
       "      <td>180</td>\n",
       "      <td>Egy2a4qZeXGr2aY6KMxxbg</td>\n",
       "      <td>1FURjeGJi_LBXcJQg8eskw</td>\n",
       "      <td>5.0</td>\n",
       "      <td>0</td>\n",
       "      <td>0</td>\n",
       "      <td>1</td>\n",
       "      <td>Remarkable food with beach access for the whol...</td>\n",
       "      <td>2017-05-09 23:21:36</td>\n",
       "    </tr>\n",
       "    <tr>\n",
       "      <th>1</th>\n",
       "      <td>qVc8ODYU5SZjKXVBgXdI7w</td>\n",
       "      <td>Walker</td>\n",
       "      <td>585</td>\n",
       "      <td>2007-01-25 16:47:26</td>\n",
       "      <td>7217</td>\n",
       "      <td>1259</td>\n",
       "      <td>5994</td>\n",
       "      <td>2007</td>\n",
       "      <td>NSCy54eWehBJyZdG2iE84w, pe42u7DcCH2QmI81NX-8qA...</td>\n",
       "      <td>267</td>\n",
       "      <td>...</td>\n",
       "      <td>239</td>\n",
       "      <td>180</td>\n",
       "      <td>01vN0q6aMlFio6HAjLZz7Q</td>\n",
       "      <td>Xq-8-I0U8Artr7d70SjX-g</td>\n",
       "      <td>5.0</td>\n",
       "      <td>30</td>\n",
       "      <td>7</td>\n",
       "      <td>32</td>\n",
       "      <td>I loved everything about this lovely train sta...</td>\n",
       "      <td>2009-05-01 02:00:03</td>\n",
       "    </tr>\n",
       "    <tr>\n",
       "      <th>2</th>\n",
       "      <td>qVc8ODYU5SZjKXVBgXdI7w</td>\n",
       "      <td>Walker</td>\n",
       "      <td>585</td>\n",
       "      <td>2007-01-25 16:47:26</td>\n",
       "      <td>7217</td>\n",
       "      <td>1259</td>\n",
       "      <td>5994</td>\n",
       "      <td>2007</td>\n",
       "      <td>NSCy54eWehBJyZdG2iE84w, pe42u7DcCH2QmI81NX-8qA...</td>\n",
       "      <td>267</td>\n",
       "      <td>...</td>\n",
       "      <td>239</td>\n",
       "      <td>180</td>\n",
       "      <td>hN09L9s9vu0kgUBESDmszQ</td>\n",
       "      <td>2yHl6wl1iFa_Jo_SZcmSuw</td>\n",
       "      <td>4.0</td>\n",
       "      <td>2</td>\n",
       "      <td>1</td>\n",
       "      <td>2</td>\n",
       "      <td>The classic facade, built over an earlier faci...</td>\n",
       "      <td>2017-05-11 19:17:55</td>\n",
       "    </tr>\n",
       "    <tr>\n",
       "      <th>3</th>\n",
       "      <td>qVc8ODYU5SZjKXVBgXdI7w</td>\n",
       "      <td>Walker</td>\n",
       "      <td>585</td>\n",
       "      <td>2007-01-25 16:47:26</td>\n",
       "      <td>7217</td>\n",
       "      <td>1259</td>\n",
       "      <td>5994</td>\n",
       "      <td>2007</td>\n",
       "      <td>NSCy54eWehBJyZdG2iE84w, pe42u7DcCH2QmI81NX-8qA...</td>\n",
       "      <td>267</td>\n",
       "      <td>...</td>\n",
       "      <td>239</td>\n",
       "      <td>180</td>\n",
       "      <td>Pn2_64tysqn4dUNmu1B8Iw</td>\n",
       "      <td>m-7KjNS6cXpHC3ePfLA36w</td>\n",
       "      <td>2.0</td>\n",
       "      <td>4</td>\n",
       "      <td>0</td>\n",
       "      <td>0</td>\n",
       "      <td>Older Residence Inn with air conditioner probl...</td>\n",
       "      <td>2014-07-30 15:07:43</td>\n",
       "    </tr>\n",
       "    <tr>\n",
       "      <th>4</th>\n",
       "      <td>qVc8ODYU5SZjKXVBgXdI7w</td>\n",
       "      <td>Walker</td>\n",
       "      <td>585</td>\n",
       "      <td>2007-01-25 16:47:26</td>\n",
       "      <td>7217</td>\n",
       "      <td>1259</td>\n",
       "      <td>5994</td>\n",
       "      <td>2007</td>\n",
       "      <td>NSCy54eWehBJyZdG2iE84w, pe42u7DcCH2QmI81NX-8qA...</td>\n",
       "      <td>267</td>\n",
       "      <td>...</td>\n",
       "      <td>239</td>\n",
       "      <td>180</td>\n",
       "      <td>ABd5r1jHjo1vxJXLOewS_A</td>\n",
       "      <td>-OKB11ypR4C8wWlonBFIGw</td>\n",
       "      <td>5.0</td>\n",
       "      <td>1</td>\n",
       "      <td>0</td>\n",
       "      <td>1</td>\n",
       "      <td>I love to go here for the sports book when in ...</td>\n",
       "      <td>2015-04-03 15:37:04</td>\n",
       "    </tr>\n",
       "  </tbody>\n",
       "</table>\n",
       "<p>5 rows × 30 columns</p>\n",
       "</div>"
      ],
      "text/plain": [
       "                  user_id    name  review_count        yelping_since  \\\n",
       "0  qVc8ODYU5SZjKXVBgXdI7w  Walker           585  2007-01-25 16:47:26   \n",
       "1  qVc8ODYU5SZjKXVBgXdI7w  Walker           585  2007-01-25 16:47:26   \n",
       "2  qVc8ODYU5SZjKXVBgXdI7w  Walker           585  2007-01-25 16:47:26   \n",
       "3  qVc8ODYU5SZjKXVBgXdI7w  Walker           585  2007-01-25 16:47:26   \n",
       "4  qVc8ODYU5SZjKXVBgXdI7w  Walker           585  2007-01-25 16:47:26   \n",
       "\n",
       "   useful_x  funny_x  cool_x elite  \\\n",
       "0      7217     1259    5994  2007   \n",
       "1      7217     1259    5994  2007   \n",
       "2      7217     1259    5994  2007   \n",
       "3      7217     1259    5994  2007   \n",
       "4      7217     1259    5994  2007   \n",
       "\n",
       "                                             friends  fans  ...  \\\n",
       "0  NSCy54eWehBJyZdG2iE84w, pe42u7DcCH2QmI81NX-8qA...   267  ...   \n",
       "1  NSCy54eWehBJyZdG2iE84w, pe42u7DcCH2QmI81NX-8qA...   267  ...   \n",
       "2  NSCy54eWehBJyZdG2iE84w, pe42u7DcCH2QmI81NX-8qA...   267  ...   \n",
       "3  NSCy54eWehBJyZdG2iE84w, pe42u7DcCH2QmI81NX-8qA...   267  ...   \n",
       "4  NSCy54eWehBJyZdG2iE84w, pe42u7DcCH2QmI81NX-8qA...   267  ...   \n",
       "\n",
       "   compliment_writer  compliment_photos               review_id  \\\n",
       "0                239                180  Egy2a4qZeXGr2aY6KMxxbg   \n",
       "1                239                180  01vN0q6aMlFio6HAjLZz7Q   \n",
       "2                239                180  hN09L9s9vu0kgUBESDmszQ   \n",
       "3                239                180  Pn2_64tysqn4dUNmu1B8Iw   \n",
       "4                239                180  ABd5r1jHjo1vxJXLOewS_A   \n",
       "\n",
       "              business_id  stars  useful_y  funny_y  cool_y  \\\n",
       "0  1FURjeGJi_LBXcJQg8eskw    5.0         0        0       1   \n",
       "1  Xq-8-I0U8Artr7d70SjX-g    5.0        30        7      32   \n",
       "2  2yHl6wl1iFa_Jo_SZcmSuw    4.0         2        1       2   \n",
       "3  m-7KjNS6cXpHC3ePfLA36w    2.0         4        0       0   \n",
       "4  -OKB11ypR4C8wWlonBFIGw    5.0         1        0       1   \n",
       "\n",
       "                                                text                 date  \n",
       "0  Remarkable food with beach access for the whol...  2017-05-09 23:21:36  \n",
       "1  I loved everything about this lovely train sta...  2009-05-01 02:00:03  \n",
       "2  The classic facade, built over an earlier faci...  2017-05-11 19:17:55  \n",
       "3  Older Residence Inn with air conditioner probl...  2014-07-30 15:07:43  \n",
       "4  I love to go here for the sports book when in ...  2015-04-03 15:37:04  \n",
       "\n",
       "[5 rows x 30 columns]"
      ]
     },
     "execution_count": 88,
     "metadata": {},
     "output_type": "execute_result"
    }
   ],
   "source": [
    "# merging user data with review data on \"user_id\"\n",
    "user_review=pd.merge(user, review, on='user_id')\n",
    "\n",
    "user_review.head()"
   ]
  },
  {
   "cell_type": "code",
   "execution_count": null,
   "id": "157f4187-f801-4c61-8d75-c165d693fe3c",
   "metadata": {
    "id": "157f4187-f801-4c61-8d75-c165d693fe3c",
    "outputId": "c3b44aef-33d6-4e53-d188-5a39245c9bb1"
   },
   "outputs": [
    {
     "data": {
      "text/plain": [
       "(6990247, 30)"
      ]
     },
     "execution_count": 95,
     "metadata": {},
     "output_type": "execute_result"
    }
   ],
   "source": [
    "# number of rows and columns\n",
    "user_review.shape"
   ]
  },
  {
   "cell_type": "code",
   "execution_count": null,
   "id": "f4c94fed-1352-4054-a54b-1cc46fb17ea3",
   "metadata": {
    "id": "f4c94fed-1352-4054-a54b-1cc46fb17ea3"
   },
   "outputs": [],
   "source": [
    "# random sampled 30,000 rows of the merging data\n",
    "user_review_sample = user_review.sample(n=30000)"
   ]
  },
  {
   "cell_type": "code",
   "execution_count": null,
   "id": "ecd88c71-69fb-40b8-806a-e330c283c7ae",
   "metadata": {
    "id": "ecd88c71-69fb-40b8-806a-e330c283c7ae"
   },
   "outputs": [],
   "source": [
    " # random sampled 30,000 rows of the user data\n",
    " sample_user = user.sample(n=30000)\n",
    "# sample_user = np.random.choice(user, size = 30000)"
   ]
  },
  {
   "cell_type": "code",
   "execution_count": null,
   "id": "c015d0bd-7304-4aa1-b5b4-d5b509158590",
   "metadata": {
    "id": "c015d0bd-7304-4aa1-b5b4-d5b509158590"
   },
   "outputs": [],
   "source": [
    "# random sampled 30,000 rows of the review data\n",
    "sample_review = review.sample(n=30000)\n",
    "# sample_review = np.random.choice(review, size = 30000)"
   ]
  },
  {
   "cell_type": "code",
   "execution_count": null,
   "id": "2c94929a-b33a-4911-b2f4-0cd5fe500bbb",
   "metadata": {
    "id": "2c94929a-b33a-4911-b2f4-0cd5fe500bbb"
   },
   "outputs": [],
   "source": [
    "# save sampled data as a csv file\n",
    "sample_user.to_csv('sample_user_file')"
   ]
  },
  {
   "cell_type": "code",
   "execution_count": null,
   "id": "50d91d36-5b39-4173-83b9-4dc9697a1825",
   "metadata": {
    "id": "50d91d36-5b39-4173-83b9-4dc9697a1825"
   },
   "outputs": [],
   "source": [
    "# save sampled data as a csv file\n",
    "sample_review.to_csv('sample_review_file')"
   ]
  },
  {
   "cell_type": "code",
   "execution_count": null,
   "id": "fa73968e-0a22-455c-a296-0413708d0ba7",
   "metadata": {
    "id": "fa73968e-0a22-455c-a296-0413708d0ba7"
   },
   "outputs": [],
   "source": [
    "# save sampled data as a csv file\n",
    "user_review.to_csv('merge_user_review_file')"
   ]
  },
  {
   "cell_type": "code",
   "execution_count": null,
   "id": "121382b0-370b-4b1c-b338-b762be7a3343",
   "metadata": {
    "id": "121382b0-370b-4b1c-b338-b762be7a3343",
    "outputId": "22c0dd63-65ea-46c0-8b73-fde780434315"
   },
   "outputs": [
    {
     "data": {
      "text/html": [
       "<div>\n",
       "<style scoped>\n",
       "    .dataframe tbody tr th:only-of-type {\n",
       "        vertical-align: middle;\n",
       "    }\n",
       "\n",
       "    .dataframe tbody tr th {\n",
       "        vertical-align: top;\n",
       "    }\n",
       "\n",
       "    .dataframe thead th {\n",
       "        text-align: right;\n",
       "    }\n",
       "</style>\n",
       "<table border=\"1\" class=\"dataframe\">\n",
       "  <thead>\n",
       "    <tr style=\"text-align: right;\">\n",
       "      <th></th>\n",
       "      <th>review_id</th>\n",
       "      <th>user_id</th>\n",
       "      <th>business_id</th>\n",
       "      <th>stars</th>\n",
       "      <th>useful</th>\n",
       "      <th>funny</th>\n",
       "      <th>cool</th>\n",
       "      <th>text</th>\n",
       "      <th>date</th>\n",
       "    </tr>\n",
       "  </thead>\n",
       "  <tbody>\n",
       "    <tr>\n",
       "      <th>6643547</th>\n",
       "      <td>2tge0RFSKG3_GunBejsxiA</td>\n",
       "      <td>uYIhhbYDDQQVUvRjTaBAkw</td>\n",
       "      <td>MQXOzhLEF-SV4azYDlOLeg</td>\n",
       "      <td>1.0</td>\n",
       "      <td>2</td>\n",
       "      <td>1</td>\n",
       "      <td>0</td>\n",
       "      <td>If I could give this location a 0 I would.  My...</td>\n",
       "      <td>2017-11-30 15:17:44</td>\n",
       "    </tr>\n",
       "    <tr>\n",
       "      <th>6068358</th>\n",
       "      <td>isR0G1ARcvvgpfzF_XAgLQ</td>\n",
       "      <td>xSlBsTTPtPvwlclBIvAjYw</td>\n",
       "      <td>QA8QLpwf_YT9C2ST5YJ0vw</td>\n",
       "      <td>5.0</td>\n",
       "      <td>0</td>\n",
       "      <td>0</td>\n",
       "      <td>1</td>\n",
       "      <td>A New Orleans institution.  Drinks, service an...</td>\n",
       "      <td>2018-04-26 21:29:43</td>\n",
       "    </tr>\n",
       "    <tr>\n",
       "      <th>1416339</th>\n",
       "      <td>3_ed6ju-WMZXqzBXMU4FkA</td>\n",
       "      <td>z6Z8zZQCAEPur8uxRCwGnA</td>\n",
       "      <td>HCHHrf21UAgbxAi8T4Q4Iw</td>\n",
       "      <td>5.0</td>\n",
       "      <td>0</td>\n",
       "      <td>0</td>\n",
       "      <td>0</td>\n",
       "      <td>The wife and I were downtown nashville for som...</td>\n",
       "      <td>2021-09-27 16:27:41</td>\n",
       "    </tr>\n",
       "    <tr>\n",
       "      <th>835008</th>\n",
       "      <td>SV6wwOPgmDpL_CxXizJhDg</td>\n",
       "      <td>Bsu8ZE86aZDt3O7Msr3oRw</td>\n",
       "      <td>OiE-MRsu_E5O54crdNGZ1g</td>\n",
       "      <td>5.0</td>\n",
       "      <td>0</td>\n",
       "      <td>3</td>\n",
       "      <td>0</td>\n",
       "      <td>I don't know, I think the bathrooms are AMAZIN...</td>\n",
       "      <td>2015-07-20 03:01:46</td>\n",
       "    </tr>\n",
       "    <tr>\n",
       "      <th>6207090</th>\n",
       "      <td>A78ANYvIjEhF3zrvM2EOmQ</td>\n",
       "      <td>JclJzXVqu7PeBkM6H2vQbw</td>\n",
       "      <td>HEf0QXnhxrcIWxRfAbQ2iA</td>\n",
       "      <td>3.0</td>\n",
       "      <td>3</td>\n",
       "      <td>0</td>\n",
       "      <td>0</td>\n",
       "      <td>Stopped by for a quick curbside outdoor bite d...</td>\n",
       "      <td>2020-07-25 21:46:09</td>\n",
       "    </tr>\n",
       "  </tbody>\n",
       "</table>\n",
       "</div>"
      ],
      "text/plain": [
       "                      review_id                 user_id  \\\n",
       "6643547  2tge0RFSKG3_GunBejsxiA  uYIhhbYDDQQVUvRjTaBAkw   \n",
       "6068358  isR0G1ARcvvgpfzF_XAgLQ  xSlBsTTPtPvwlclBIvAjYw   \n",
       "1416339  3_ed6ju-WMZXqzBXMU4FkA  z6Z8zZQCAEPur8uxRCwGnA   \n",
       "835008   SV6wwOPgmDpL_CxXizJhDg  Bsu8ZE86aZDt3O7Msr3oRw   \n",
       "6207090  A78ANYvIjEhF3zrvM2EOmQ  JclJzXVqu7PeBkM6H2vQbw   \n",
       "\n",
       "                    business_id  stars  useful  funny  cool  \\\n",
       "6643547  MQXOzhLEF-SV4azYDlOLeg    1.0       2      1     0   \n",
       "6068358  QA8QLpwf_YT9C2ST5YJ0vw    5.0       0      0     1   \n",
       "1416339  HCHHrf21UAgbxAi8T4Q4Iw    5.0       0      0     0   \n",
       "835008   OiE-MRsu_E5O54crdNGZ1g    5.0       0      3     0   \n",
       "6207090  HEf0QXnhxrcIWxRfAbQ2iA    3.0       3      0     0   \n",
       "\n",
       "                                                      text  \\\n",
       "6643547  If I could give this location a 0 I would.  My...   \n",
       "6068358  A New Orleans institution.  Drinks, service an...   \n",
       "1416339  The wife and I were downtown nashville for som...   \n",
       "835008   I don't know, I think the bathrooms are AMAZIN...   \n",
       "6207090  Stopped by for a quick curbside outdoor bite d...   \n",
       "\n",
       "                        date  \n",
       "6643547  2017-11-30 15:17:44  \n",
       "6068358  2018-04-26 21:29:43  \n",
       "1416339  2021-09-27 16:27:41  \n",
       "835008   2015-07-20 03:01:46  \n",
       "6207090  2020-07-25 21:46:09  "
      ]
     },
     "execution_count": 102,
     "metadata": {},
     "output_type": "execute_result"
    }
   ],
   "source": [
    "sample_review.head()"
   ]
  },
  {
   "cell_type": "markdown",
   "id": "3c89d6dc-df4d-4f50-880a-810137dcde27",
   "metadata": {
    "id": "3c89d6dc-df4d-4f50-880a-810137dcde27"
   },
   "source": [
    "### Limitations of the dataset:"
   ]
  },
  {
   "cell_type": "markdown",
   "id": "d36e16d4-055b-491e-9543-d0d68eecbfd8",
   "metadata": {
    "id": "d36e16d4-055b-491e-9543-d0d68eecbfd8"
   },
   "source": [
    "One of the biggest limitations of our data is that the size of the Yelp dataset is huge, especially the User Data (1.99 millions of rows) and the Review Data (6.99 millions of rows). Since it is time consuming to process all the data, we decided to do a random sampling on these datasets. Therefore, there might be some bias on the data that we sampled.\n",
    "\n",
    "After reducing the size of the datasets, we performed the two-sample Kolmogorov-Smirnov test to check whether the sample data and original data have the same distributions. \n",
    "\n",
    "P-value is 0.176, more than 5%, which is the specific significance level. We assume that they are indentical distributions. The histogram also shows they have similar distribution. "
   ]
  },
  {
   "cell_type": "code",
   "execution_count": null,
   "id": "e0ee34ab-96e9-414e-acca-50209af5fb77",
   "metadata": {
    "id": "e0ee34ab-96e9-414e-acca-50209af5fb77",
    "outputId": "2bfa25e5-d5d6-4c00-a588-33eb6df835d8"
   },
   "outputs": [
    {
     "data": {
      "image/png": "[encoded data removed]",
      "text/plain": [
       "<Figure size 864x432 with 1 Axes>"
      ]
     },
     "metadata": {
      "needs_background": "light"
     },
     "output_type": "display_data"
    }
   ],
   "source": [
    "# check sample distribution\n",
    "\n",
    "fig, ax = plt.subplots(1,1,figsize=(12,6))\n",
    "\n",
    "# review_hist = review[\"review_count\"]\n",
    "user_sample_hist = sample_user[\"review_count\"]\n",
    "# print(max(user_sample_hist))\n",
    "\n",
    "# ax = plt.hist(x=review_dist, bins=50)\n",
    "ax = plt.hist(x=user_sample_hist,bins=100, density = True, ec = 'w')\n",
    " \n",
    "# plt.xlim([0, max(user_sample_hist)])\n",
    "plt.xlim([0, 1000])\n",
    "plt.xlabel(\"# of review\")\n",
    "plt.ylabel(\"density\")\n",
    "plt.title('Sample User dataset Distribution (review_count)',fontsize=16)\n",
    "plt.show()"
   ]
  },
  {
   "cell_type": "code",
   "execution_count": null,
   "id": "884ef518-61ec-464d-aabb-cb339e7a7740",
   "metadata": {
    "id": "884ef518-61ec-464d-aabb-cb339e7a7740",
    "outputId": "3e22f7d2-c2f1-462c-856e-21753e1833a9"
   },
   "outputs": [
    {
     "data": {
      "image/png": "[encoded data removed]",
      "text/plain": [
       "<Figure size 864x432 with 1 Axes>"
      ]
     },
     "metadata": {
      "needs_background": "light"
     },
     "output_type": "display_data"
    }
   ],
   "source": [
    "# check sample distribution\n",
    "\n",
    "fig, ax = plt.subplots(1,1,figsize=(12,6))\n",
    "\n",
    "user_hist = user[\"review_count\"]\n",
    "# user_sample_hist = sample_user[\"review_count\"]\n",
    "# print(max(user_hist))\n",
    "\n",
    "ax = plt.hist(x=user_hist, bins=500, density = True,ec = 'w')\n",
    "# ax = plt.hist(x=user_sample_hist,bins=100, density = True)\n",
    "\n",
    "# plt.xlim([0, max(user_hist)])\n",
    "plt.xlim([0, 2000])\n",
    "plt.xlabel(\"length of sample\")\n",
    "plt.ylabel(\"number of sample\")\n",
    "plt.title('User dataset Distribution (review_count)',fontsize=16)\n",
    "# plt.legend(['train_len','test_len'])\n",
    "plt.show()"
   ]
  },
  {
   "cell_type": "code",
   "execution_count": null,
   "id": "18801e7a-3252-4b98-affc-30b92c714c86",
   "metadata": {
    "id": "18801e7a-3252-4b98-affc-30b92c714c86",
    "outputId": "a4ece6ac-ed78-4d48-a7e9-7a394df5f145"
   },
   "outputs": [
    {
     "data": {
      "image/png": "[encoded data removed]",
      "text/plain": [
       "<Figure size 864x432 with 1 Axes>"
      ]
     },
     "metadata": {
      "needs_background": "light"
     },
     "output_type": "display_data"
    }
   ],
   "source": [
    "# check sample distribution using a histogram\n",
    "\n",
    "fig, ax = plt.subplots(1,1,figsize=(12,6))\n",
    "\n",
    "user_hist = user[\"review_count\"]\n",
    "user_sample_hist = sample_user[\"review_count\"]\n",
    "\n",
    "ax = plt.hist(x=user_hist, bins=500, density = True, color = 'blue', ec = 'w', alpha = 0.5, label = 'original_user')\n",
    "ax = plt.hist(x=user_sample_hist, bins=100, density = True, color = 'orange', ec = 'w', alpha = 0.5, label = 'sample_user')\n",
    " \n",
    "# plt.xlim([0, max(user_sample_hist)])\n",
    "plt.xlim([0, 500])\n",
    "plt.xlabel(\"# of review\")\n",
    "plt.ylabel(\"density\")\n",
    "plt.legend(loc = 'upper right')\n",
    "plt.title('User dataset Distribution VS Sample User dataset Distribution (review_count)',fontsize=16)\n",
    "plt.show()\n",
    " \n",
    "# save figure\n",
    "fig.savefig('user_distribution.png')\n",
    "# plt.xlim([0, max(max(len_dist), max(len_test_dist))])"
   ]
  },
  {
   "cell_type": "code",
   "execution_count": null,
   "id": "6d8b1b2f-618d-4166-8c20-11e7e752d945",
   "metadata": {
    "id": "6d8b1b2f-618d-4166-8c20-11e7e752d945",
    "outputId": "dd39f710-a884-44ca-bdf6-2a2d45c3f608"
   },
   "outputs": [
    {
     "data": {
      "text/plain": [
       "KstestResult(statistic=0.006402766038683089, pvalue=0.17640553256533242)"
      ]
     },
     "execution_count": 164,
     "metadata": {},
     "output_type": "execute_result"
    }
   ],
   "source": [
    "# perform Ks test to check the distribution of the original data and sampled data\n",
    "import scipy\n",
    "scipy.stats.ks_2samp(user_hist, user_sample_hist)\n",
    "#Ks_2sampResult(statistic=0.004049999999999998, pvalue=0.5279614323123156)"
   ]
  },
  {
   "cell_type": "markdown",
   "id": "ShPHpWs2-iO9",
   "metadata": {
    "id": "ShPHpWs2-iO9"
   },
   "source": [
    "p value is 0.176, more than 5%, which is the specific significance level. We assume that they are indentical distributions."
   ]
  },
  {
   "cell_type": "code",
   "execution_count": null,
   "id": "473eef85-5633-4aa4-beff-d1af406a36cf",
   "metadata": {
    "id": "473eef85-5633-4aa4-beff-d1af406a36cf",
    "outputId": "021b1dad-68c7-485e-b89c-0c43b1d31f80"
   },
   "outputs": [
    {
     "data": {
      "image/png": "[encoded data removed]",
      "text/plain": [
       "<Figure size 864x432 with 1 Axes>"
      ]
     },
     "metadata": {
      "needs_background": "light"
     },
     "output_type": "display_data"
    }
   ],
   "source": [
    "# check sample distribution using a histogram \n",
    "\n",
    "fig, ax = plt.subplots(1,1,figsize=(12,6))\n",
    "\n",
    "user_hist1 = user[\"average_stars\"]\n",
    "user_sample_hist1 = sample_user[\"average_stars\"]\n",
    "\n",
    "ax = plt.hist(x=user_hist1, bins=50, density = True, color = 'blue', ec = 'w', alpha = 0.5, label = 'original_user')\n",
    "ax = plt.hist(x=user_sample_hist1, bins=50, density = True, color = 'orange', ec = 'w', alpha = 0.5, label = 'sample_user')\n",
    " \n",
    "# plt.xlim([0, max(user_sample_hist)])\n",
    "plt.xlim([0.5, 5.5])\n",
    "plt.xlabel(\"average stars\")\n",
    "plt.ylabel(\"density\")\n",
    "plt.legend(loc = 'upper left')\n",
    "plt.title('User dataset Distribution VS Sample User dataset Distribution (average stars)',fontsize=16)\n",
    "plt.show()\n",
    " \n",
    "fig.savefig('user_distribution1.png')\n",
    "# plt.xlim([0, max(max(len_dist), max(len_test_dist))])\n"
   ]
  },
  {
   "cell_type": "code",
   "execution_count": null,
   "id": "f2ba6270-c5be-4fd4-aade-bcf122cfc8fb",
   "metadata": {
    "id": "f2ba6270-c5be-4fd4-aade-bcf122cfc8fb",
    "outputId": "f79b15fb-9fe8-40f2-9c42-149fbb13f883"
   },
   "outputs": [
    {
     "data": {
      "text/plain": [
       "KstestResult(statistic=0.0038378620052581525, pvalue=0.7751868999627998)"
      ]
     },
     "execution_count": 171,
     "metadata": {},
     "output_type": "execute_result"
    }
   ],
   "source": [
    "# perform a ks test to check the distribution of the original data and sample data\n",
    "scipy.stats.ks_2samp(user_hist1, user_sample_hist1)"
   ]
  },
  {
   "cell_type": "code",
   "execution_count": null,
   "id": "c0de167e-87ed-48dc-a4f3-7ad0e44e8b54",
   "metadata": {
    "id": "c0de167e-87ed-48dc-a4f3-7ad0e44e8b54",
    "outputId": "5fbf5c48-c5b2-489a-90ce-d9f2fea087cf"
   },
   "outputs": [
    {
     "data": {
      "text/html": [
       "<div>\n",
       "<style scoped>\n",
       "    .dataframe tbody tr th:only-of-type {\n",
       "        vertical-align: middle;\n",
       "    }\n",
       "\n",
       "    .dataframe tbody tr th {\n",
       "        vertical-align: top;\n",
       "    }\n",
       "\n",
       "    .dataframe thead th {\n",
       "        text-align: right;\n",
       "    }\n",
       "</style>\n",
       "<table border=\"1\" class=\"dataframe\">\n",
       "  <thead>\n",
       "    <tr style=\"text-align: right;\">\n",
       "      <th></th>\n",
       "      <th>count</th>\n",
       "      <th>mean</th>\n",
       "      <th>std</th>\n",
       "      <th>min</th>\n",
       "      <th>25%</th>\n",
       "      <th>50%</th>\n",
       "      <th>75%</th>\n",
       "      <th>max</th>\n",
       "    </tr>\n",
       "  </thead>\n",
       "  <tbody>\n",
       "    <tr>\n",
       "      <th>review_count</th>\n",
       "      <td>1987897.0</td>\n",
       "      <td>23.394409</td>\n",
       "      <td>82.566992</td>\n",
       "      <td>0.0</td>\n",
       "      <td>2.0</td>\n",
       "      <td>5.00</td>\n",
       "      <td>17.00</td>\n",
       "      <td>17473.0</td>\n",
       "    </tr>\n",
       "    <tr>\n",
       "      <th>useful</th>\n",
       "      <td>1987897.0</td>\n",
       "      <td>42.296335</td>\n",
       "      <td>641.480597</td>\n",
       "      <td>0.0</td>\n",
       "      <td>0.0</td>\n",
       "      <td>3.00</td>\n",
       "      <td>13.00</td>\n",
       "      <td>206296.0</td>\n",
       "    </tr>\n",
       "    <tr>\n",
       "      <th>funny</th>\n",
       "      <td>1987897.0</td>\n",
       "      <td>16.970536</td>\n",
       "      <td>407.803437</td>\n",
       "      <td>0.0</td>\n",
       "      <td>0.0</td>\n",
       "      <td>0.00</td>\n",
       "      <td>2.00</td>\n",
       "      <td>185823.0</td>\n",
       "    </tr>\n",
       "    <tr>\n",
       "      <th>cool</th>\n",
       "      <td>1987897.0</td>\n",
       "      <td>23.792914</td>\n",
       "      <td>565.351295</td>\n",
       "      <td>0.0</td>\n",
       "      <td>0.0</td>\n",
       "      <td>0.00</td>\n",
       "      <td>3.00</td>\n",
       "      <td>199878.0</td>\n",
       "    </tr>\n",
       "    <tr>\n",
       "      <th>fans</th>\n",
       "      <td>1987897.0</td>\n",
       "      <td>1.465740</td>\n",
       "      <td>18.130753</td>\n",
       "      <td>0.0</td>\n",
       "      <td>0.0</td>\n",
       "      <td>0.00</td>\n",
       "      <td>0.00</td>\n",
       "      <td>12497.0</td>\n",
       "    </tr>\n",
       "    <tr>\n",
       "      <th>average_stars</th>\n",
       "      <td>1987897.0</td>\n",
       "      <td>3.630494</td>\n",
       "      <td>1.183337</td>\n",
       "      <td>1.0</td>\n",
       "      <td>3.0</td>\n",
       "      <td>3.88</td>\n",
       "      <td>4.56</td>\n",
       "      <td>5.0</td>\n",
       "    </tr>\n",
       "    <tr>\n",
       "      <th>compliment_hot</th>\n",
       "      <td>1987897.0</td>\n",
       "      <td>1.807072</td>\n",
       "      <td>73.601841</td>\n",
       "      <td>0.0</td>\n",
       "      <td>0.0</td>\n",
       "      <td>0.00</td>\n",
       "      <td>0.00</td>\n",
       "      <td>25784.0</td>\n",
       "    </tr>\n",
       "    <tr>\n",
       "      <th>compliment_more</th>\n",
       "      <td>1987897.0</td>\n",
       "      <td>0.292263</td>\n",
       "      <td>12.824667</td>\n",
       "      <td>0.0</td>\n",
       "      <td>0.0</td>\n",
       "      <td>0.00</td>\n",
       "      <td>0.00</td>\n",
       "      <td>13501.0</td>\n",
       "    </tr>\n",
       "    <tr>\n",
       "      <th>compliment_profile</th>\n",
       "      <td>1987897.0</td>\n",
       "      <td>0.179318</td>\n",
       "      <td>15.155253</td>\n",
       "      <td>0.0</td>\n",
       "      <td>0.0</td>\n",
       "      <td>0.00</td>\n",
       "      <td>0.00</td>\n",
       "      <td>14180.0</td>\n",
       "    </tr>\n",
       "    <tr>\n",
       "      <th>compliment_cute</th>\n",
       "      <td>1987897.0</td>\n",
       "      <td>0.133649</td>\n",
       "      <td>11.356823</td>\n",
       "      <td>0.0</td>\n",
       "      <td>0.0</td>\n",
       "      <td>0.00</td>\n",
       "      <td>0.00</td>\n",
       "      <td>13654.0</td>\n",
       "    </tr>\n",
       "    <tr>\n",
       "      <th>compliment_list</th>\n",
       "      <td>1987897.0</td>\n",
       "      <td>0.063907</td>\n",
       "      <td>10.043627</td>\n",
       "      <td>0.0</td>\n",
       "      <td>0.0</td>\n",
       "      <td>0.00</td>\n",
       "      <td>0.00</td>\n",
       "      <td>12669.0</td>\n",
       "    </tr>\n",
       "    <tr>\n",
       "      <th>compliment_note</th>\n",
       "      <td>1987897.0</td>\n",
       "      <td>1.443135</td>\n",
       "      <td>60.167900</td>\n",
       "      <td>0.0</td>\n",
       "      <td>0.0</td>\n",
       "      <td>0.00</td>\n",
       "      <td>0.00</td>\n",
       "      <td>59031.0</td>\n",
       "    </tr>\n",
       "    <tr>\n",
       "      <th>compliment_plain</th>\n",
       "      <td>1987897.0</td>\n",
       "      <td>3.011841</td>\n",
       "      <td>119.389804</td>\n",
       "      <td>0.0</td>\n",
       "      <td>0.0</td>\n",
       "      <td>0.00</td>\n",
       "      <td>0.00</td>\n",
       "      <td>101097.0</td>\n",
       "    </tr>\n",
       "    <tr>\n",
       "      <th>compliment_cool</th>\n",
       "      <td>1987897.0</td>\n",
       "      <td>2.829308</td>\n",
       "      <td>96.663854</td>\n",
       "      <td>0.0</td>\n",
       "      <td>0.0</td>\n",
       "      <td>0.00</td>\n",
       "      <td>0.00</td>\n",
       "      <td>49967.0</td>\n",
       "    </tr>\n",
       "    <tr>\n",
       "      <th>compliment_funny</th>\n",
       "      <td>1987897.0</td>\n",
       "      <td>2.829308</td>\n",
       "      <td>96.663854</td>\n",
       "      <td>0.0</td>\n",
       "      <td>0.0</td>\n",
       "      <td>0.00</td>\n",
       "      <td>0.00</td>\n",
       "      <td>49967.0</td>\n",
       "    </tr>\n",
       "    <tr>\n",
       "      <th>compliment_writer</th>\n",
       "      <td>1987897.0</td>\n",
       "      <td>1.056448</td>\n",
       "      <td>32.179728</td>\n",
       "      <td>0.0</td>\n",
       "      <td>0.0</td>\n",
       "      <td>0.00</td>\n",
       "      <td>0.00</td>\n",
       "      <td>15934.0</td>\n",
       "    </tr>\n",
       "    <tr>\n",
       "      <th>compliment_photos</th>\n",
       "      <td>1987897.0</td>\n",
       "      <td>1.226859</td>\n",
       "      <td>95.157513</td>\n",
       "      <td>0.0</td>\n",
       "      <td>0.0</td>\n",
       "      <td>0.00</td>\n",
       "      <td>0.00</td>\n",
       "      <td>82630.0</td>\n",
       "    </tr>\n",
       "  </tbody>\n",
       "</table>\n",
       "</div>"
      ],
      "text/plain": [
       "                        count       mean         std  min  25%   50%    75%  \\\n",
       "review_count        1987897.0  23.394409   82.566992  0.0  2.0  5.00  17.00   \n",
       "useful              1987897.0  42.296335  641.480597  0.0  0.0  3.00  13.00   \n",
       "funny               1987897.0  16.970536  407.803437  0.0  0.0  0.00   2.00   \n",
       "cool                1987897.0  23.792914  565.351295  0.0  0.0  0.00   3.00   \n",
       "fans                1987897.0   1.465740   18.130753  0.0  0.0  0.00   0.00   \n",
       "average_stars       1987897.0   3.630494    1.183337  1.0  3.0  3.88   4.56   \n",
       "compliment_hot      1987897.0   1.807072   73.601841  0.0  0.0  0.00   0.00   \n",
       "compliment_more     1987897.0   0.292263   12.824667  0.0  0.0  0.00   0.00   \n",
       "compliment_profile  1987897.0   0.179318   15.155253  0.0  0.0  0.00   0.00   \n",
       "compliment_cute     1987897.0   0.133649   11.356823  0.0  0.0  0.00   0.00   \n",
       "compliment_list     1987897.0   0.063907   10.043627  0.0  0.0  0.00   0.00   \n",
       "compliment_note     1987897.0   1.443135   60.167900  0.0  0.0  0.00   0.00   \n",
       "compliment_plain    1987897.0   3.011841  119.389804  0.0  0.0  0.00   0.00   \n",
       "compliment_cool     1987897.0   2.829308   96.663854  0.0  0.0  0.00   0.00   \n",
       "compliment_funny    1987897.0   2.829308   96.663854  0.0  0.0  0.00   0.00   \n",
       "compliment_writer   1987897.0   1.056448   32.179728  0.0  0.0  0.00   0.00   \n",
       "compliment_photos   1987897.0   1.226859   95.157513  0.0  0.0  0.00   0.00   \n",
       "\n",
       "                         max  \n",
       "review_count         17473.0  \n",
       "useful              206296.0  \n",
       "funny               185823.0  \n",
       "cool                199878.0  \n",
       "fans                 12497.0  \n",
       "average_stars            5.0  \n",
       "compliment_hot       25784.0  \n",
       "compliment_more      13501.0  \n",
       "compliment_profile   14180.0  \n",
       "compliment_cute      13654.0  \n",
       "compliment_list      12669.0  \n",
       "compliment_note      59031.0  \n",
       "compliment_plain    101097.0  \n",
       "compliment_cool      49967.0  \n",
       "compliment_funny     49967.0  \n",
       "compliment_writer    15934.0  \n",
       "compliment_photos    82630.0  "
      ]
     },
     "execution_count": 151,
     "metadata": {},
     "output_type": "execute_result"
    }
   ],
   "source": [
    "# statistical description\n",
    "\n",
    "user.describe().T"
   ]
  },
  {
   "cell_type": "code",
   "execution_count": null,
   "id": "22b1eb16-9039-4824-9fc3-b56344df8710",
   "metadata": {
    "id": "22b1eb16-9039-4824-9fc3-b56344df8710",
    "outputId": "d2661e45-6a4d-49f6-ff2d-a34a5123a2f5"
   },
   "outputs": [
    {
     "data": {
      "text/html": [
       "<div>\n",
       "<style scoped>\n",
       "    .dataframe tbody tr th:only-of-type {\n",
       "        vertical-align: middle;\n",
       "    }\n",
       "\n",
       "    .dataframe tbody tr th {\n",
       "        vertical-align: top;\n",
       "    }\n",
       "\n",
       "    .dataframe thead th {\n",
       "        text-align: right;\n",
       "    }\n",
       "</style>\n",
       "<table border=\"1\" class=\"dataframe\">\n",
       "  <thead>\n",
       "    <tr style=\"text-align: right;\">\n",
       "      <th></th>\n",
       "      <th>count</th>\n",
       "      <th>mean</th>\n",
       "      <th>std</th>\n",
       "      <th>min</th>\n",
       "      <th>25%</th>\n",
       "      <th>50%</th>\n",
       "      <th>75%</th>\n",
       "      <th>max</th>\n",
       "    </tr>\n",
       "  </thead>\n",
       "  <tbody>\n",
       "    <tr>\n",
       "      <th>review_count</th>\n",
       "      <td>30000.0</td>\n",
       "      <td>22.547033</td>\n",
       "      <td>74.053152</td>\n",
       "      <td>1.0</td>\n",
       "      <td>2.0</td>\n",
       "      <td>5.00</td>\n",
       "      <td>16.00</td>\n",
       "      <td>3015.0</td>\n",
       "    </tr>\n",
       "    <tr>\n",
       "      <th>useful</th>\n",
       "      <td>30000.0</td>\n",
       "      <td>41.873100</td>\n",
       "      <td>642.674796</td>\n",
       "      <td>0.0</td>\n",
       "      <td>0.0</td>\n",
       "      <td>3.00</td>\n",
       "      <td>13.00</td>\n",
       "      <td>80394.0</td>\n",
       "    </tr>\n",
       "    <tr>\n",
       "      <th>funny</th>\n",
       "      <td>30000.0</td>\n",
       "      <td>16.908267</td>\n",
       "      <td>345.043971</td>\n",
       "      <td>0.0</td>\n",
       "      <td>0.0</td>\n",
       "      <td>0.00</td>\n",
       "      <td>2.00</td>\n",
       "      <td>34865.0</td>\n",
       "    </tr>\n",
       "    <tr>\n",
       "      <th>cool</th>\n",
       "      <td>30000.0</td>\n",
       "      <td>24.090000</td>\n",
       "      <td>588.580397</td>\n",
       "      <td>0.0</td>\n",
       "      <td>0.0</td>\n",
       "      <td>0.00</td>\n",
       "      <td>3.00</td>\n",
       "      <td>78116.0</td>\n",
       "    </tr>\n",
       "    <tr>\n",
       "      <th>fans</th>\n",
       "      <td>30000.0</td>\n",
       "      <td>1.452133</td>\n",
       "      <td>18.186453</td>\n",
       "      <td>0.0</td>\n",
       "      <td>0.0</td>\n",
       "      <td>0.00</td>\n",
       "      <td>0.00</td>\n",
       "      <td>2172.0</td>\n",
       "    </tr>\n",
       "    <tr>\n",
       "      <th>average_stars</th>\n",
       "      <td>30000.0</td>\n",
       "      <td>3.631549</td>\n",
       "      <td>1.188303</td>\n",
       "      <td>1.0</td>\n",
       "      <td>3.0</td>\n",
       "      <td>3.88</td>\n",
       "      <td>4.57</td>\n",
       "      <td>5.0</td>\n",
       "    </tr>\n",
       "    <tr>\n",
       "      <th>compliment_hot</th>\n",
       "      <td>30000.0</td>\n",
       "      <td>2.033100</td>\n",
       "      <td>57.826175</td>\n",
       "      <td>0.0</td>\n",
       "      <td>0.0</td>\n",
       "      <td>0.00</td>\n",
       "      <td>0.00</td>\n",
       "      <td>5451.0</td>\n",
       "    </tr>\n",
       "    <tr>\n",
       "      <th>compliment_more</th>\n",
       "      <td>30000.0</td>\n",
       "      <td>0.279333</td>\n",
       "      <td>4.830357</td>\n",
       "      <td>0.0</td>\n",
       "      <td>0.0</td>\n",
       "      <td>0.00</td>\n",
       "      <td>0.00</td>\n",
       "      <td>469.0</td>\n",
       "    </tr>\n",
       "    <tr>\n",
       "      <th>compliment_profile</th>\n",
       "      <td>30000.0</td>\n",
       "      <td>0.152333</td>\n",
       "      <td>3.654136</td>\n",
       "      <td>0.0</td>\n",
       "      <td>0.0</td>\n",
       "      <td>0.00</td>\n",
       "      <td>0.00</td>\n",
       "      <td>392.0</td>\n",
       "    </tr>\n",
       "    <tr>\n",
       "      <th>compliment_cute</th>\n",
       "      <td>30000.0</td>\n",
       "      <td>0.140533</td>\n",
       "      <td>3.976185</td>\n",
       "      <td>0.0</td>\n",
       "      <td>0.0</td>\n",
       "      <td>0.00</td>\n",
       "      <td>0.00</td>\n",
       "      <td>369.0</td>\n",
       "    </tr>\n",
       "    <tr>\n",
       "      <th>compliment_list</th>\n",
       "      <td>30000.0</td>\n",
       "      <td>0.050433</td>\n",
       "      <td>1.165333</td>\n",
       "      <td>0.0</td>\n",
       "      <td>0.0</td>\n",
       "      <td>0.00</td>\n",
       "      <td>0.00</td>\n",
       "      <td>110.0</td>\n",
       "    </tr>\n",
       "    <tr>\n",
       "      <th>compliment_note</th>\n",
       "      <td>30000.0</td>\n",
       "      <td>1.705300</td>\n",
       "      <td>44.875350</td>\n",
       "      <td>0.0</td>\n",
       "      <td>0.0</td>\n",
       "      <td>0.00</td>\n",
       "      <td>0.00</td>\n",
       "      <td>5386.0</td>\n",
       "    </tr>\n",
       "    <tr>\n",
       "      <th>compliment_plain</th>\n",
       "      <td>30000.0</td>\n",
       "      <td>3.296033</td>\n",
       "      <td>95.817184</td>\n",
       "      <td>0.0</td>\n",
       "      <td>0.0</td>\n",
       "      <td>0.00</td>\n",
       "      <td>0.00</td>\n",
       "      <td>9843.0</td>\n",
       "    </tr>\n",
       "    <tr>\n",
       "      <th>compliment_cool</th>\n",
       "      <td>30000.0</td>\n",
       "      <td>3.364733</td>\n",
       "      <td>130.075653</td>\n",
       "      <td>0.0</td>\n",
       "      <td>0.0</td>\n",
       "      <td>0.00</td>\n",
       "      <td>0.00</td>\n",
       "      <td>20141.0</td>\n",
       "    </tr>\n",
       "    <tr>\n",
       "      <th>compliment_funny</th>\n",
       "      <td>30000.0</td>\n",
       "      <td>3.364733</td>\n",
       "      <td>130.075653</td>\n",
       "      <td>0.0</td>\n",
       "      <td>0.0</td>\n",
       "      <td>0.00</td>\n",
       "      <td>0.00</td>\n",
       "      <td>20141.0</td>\n",
       "    </tr>\n",
       "    <tr>\n",
       "      <th>compliment_writer</th>\n",
       "      <td>30000.0</td>\n",
       "      <td>0.989000</td>\n",
       "      <td>17.327716</td>\n",
       "      <td>0.0</td>\n",
       "      <td>0.0</td>\n",
       "      <td>0.00</td>\n",
       "      <td>0.00</td>\n",
       "      <td>1612.0</td>\n",
       "    </tr>\n",
       "    <tr>\n",
       "      <th>compliment_photos</th>\n",
       "      <td>30000.0</td>\n",
       "      <td>1.774300</td>\n",
       "      <td>119.848963</td>\n",
       "      <td>0.0</td>\n",
       "      <td>0.0</td>\n",
       "      <td>0.00</td>\n",
       "      <td>0.00</td>\n",
       "      <td>18401.0</td>\n",
       "    </tr>\n",
       "  </tbody>\n",
       "</table>\n",
       "</div>"
      ],
      "text/plain": [
       "                      count       mean         std  min  25%   50%    75%  \\\n",
       "review_count        30000.0  22.547033   74.053152  1.0  2.0  5.00  16.00   \n",
       "useful              30000.0  41.873100  642.674796  0.0  0.0  3.00  13.00   \n",
       "funny               30000.0  16.908267  345.043971  0.0  0.0  0.00   2.00   \n",
       "cool                30000.0  24.090000  588.580397  0.0  0.0  0.00   3.00   \n",
       "fans                30000.0   1.452133   18.186453  0.0  0.0  0.00   0.00   \n",
       "average_stars       30000.0   3.631549    1.188303  1.0  3.0  3.88   4.57   \n",
       "compliment_hot      30000.0   2.033100   57.826175  0.0  0.0  0.00   0.00   \n",
       "compliment_more     30000.0   0.279333    4.830357  0.0  0.0  0.00   0.00   \n",
       "compliment_profile  30000.0   0.152333    3.654136  0.0  0.0  0.00   0.00   \n",
       "compliment_cute     30000.0   0.140533    3.976185  0.0  0.0  0.00   0.00   \n",
       "compliment_list     30000.0   0.050433    1.165333  0.0  0.0  0.00   0.00   \n",
       "compliment_note     30000.0   1.705300   44.875350  0.0  0.0  0.00   0.00   \n",
       "compliment_plain    30000.0   3.296033   95.817184  0.0  0.0  0.00   0.00   \n",
       "compliment_cool     30000.0   3.364733  130.075653  0.0  0.0  0.00   0.00   \n",
       "compliment_funny    30000.0   3.364733  130.075653  0.0  0.0  0.00   0.00   \n",
       "compliment_writer   30000.0   0.989000   17.327716  0.0  0.0  0.00   0.00   \n",
       "compliment_photos   30000.0   1.774300  119.848963  0.0  0.0  0.00   0.00   \n",
       "\n",
       "                        max  \n",
       "review_count         3015.0  \n",
       "useful              80394.0  \n",
       "funny               34865.0  \n",
       "cool                78116.0  \n",
       "fans                 2172.0  \n",
       "average_stars           5.0  \n",
       "compliment_hot       5451.0  \n",
       "compliment_more       469.0  \n",
       "compliment_profile    392.0  \n",
       "compliment_cute       369.0  \n",
       "compliment_list       110.0  \n",
       "compliment_note      5386.0  \n",
       "compliment_plain     9843.0  \n",
       "compliment_cool     20141.0  \n",
       "compliment_funny    20141.0  \n",
       "compliment_writer    1612.0  \n",
       "compliment_photos   18401.0  "
      ]
     },
     "execution_count": 152,
     "metadata": {},
     "output_type": "execute_result"
    }
   ],
   "source": [
    "# statistical description\n",
    "\n",
    "sample_user.describe().T"
   ]
  },
  {
   "cell_type": "code",
   "execution_count": null,
   "id": "6d999560-fde0-4c17-ac76-4a71b4182a54",
   "metadata": {
    "id": "6d999560-fde0-4c17-ac76-4a71b4182a54"
   },
   "outputs": [],
   "source": [
    "user_review_sample = pd.merge(sample_user, sample_review, on = 'user_id')"
   ]
  },
  {
   "cell_type": "code",
   "execution_count": null,
   "id": "dee76e43-f5ab-4fe2-a538-9436269e4bc3",
   "metadata": {
    "id": "dee76e43-f5ab-4fe2-a538-9436269e4bc3",
    "outputId": "c91cd373-82b6-4eec-edf3-646585b1c181"
   },
   "outputs": [
    {
     "data": {
      "text/html": [
       "<div>\n",
       "<style scoped>\n",
       "    .dataframe tbody tr th:only-of-type {\n",
       "        vertical-align: middle;\n",
       "    }\n",
       "\n",
       "    .dataframe tbody tr th {\n",
       "        vertical-align: top;\n",
       "    }\n",
       "\n",
       "    .dataframe thead th {\n",
       "        text-align: right;\n",
       "    }\n",
       "</style>\n",
       "<table border=\"1\" class=\"dataframe\">\n",
       "  <thead>\n",
       "    <tr style=\"text-align: right;\">\n",
       "      <th></th>\n",
       "      <th>user_id</th>\n",
       "      <th>name</th>\n",
       "      <th>review_count</th>\n",
       "      <th>yelping_since</th>\n",
       "      <th>useful_x</th>\n",
       "      <th>funny_x</th>\n",
       "      <th>cool_x</th>\n",
       "      <th>elite</th>\n",
       "      <th>friends</th>\n",
       "      <th>fans</th>\n",
       "      <th>...</th>\n",
       "      <th>compliment_writer</th>\n",
       "      <th>compliment_photos</th>\n",
       "      <th>review_id</th>\n",
       "      <th>business_id</th>\n",
       "      <th>stars</th>\n",
       "      <th>useful_y</th>\n",
       "      <th>funny_y</th>\n",
       "      <th>cool_y</th>\n",
       "      <th>text</th>\n",
       "      <th>date</th>\n",
       "    </tr>\n",
       "  </thead>\n",
       "  <tbody>\n",
       "    <tr>\n",
       "      <th>0</th>\n",
       "      <td>dJcydaBlE5E98XPqACmrsg</td>\n",
       "      <td>Najwa</td>\n",
       "      <td>22</td>\n",
       "      <td>2018-03-27 00:21:44</td>\n",
       "      <td>8</td>\n",
       "      <td>0</td>\n",
       "      <td>4</td>\n",
       "      <td></td>\n",
       "      <td>G0Ex17NeMJUwqNIl8Z4ecw</td>\n",
       "      <td>1</td>\n",
       "      <td>...</td>\n",
       "      <td>0</td>\n",
       "      <td>0</td>\n",
       "      <td>1SLFL1pSG206Y06Hn0nnqg</td>\n",
       "      <td>FpyjR9TiaO3JyynpF-y-7g</td>\n",
       "      <td>4.0</td>\n",
       "      <td>1</td>\n",
       "      <td>0</td>\n",
       "      <td>0</td>\n",
       "      <td>We wanted to try all the wings!!! The menu opt...</td>\n",
       "      <td>2018-04-23 16:34:44</td>\n",
       "    </tr>\n",
       "    <tr>\n",
       "      <th>1</th>\n",
       "      <td>gGm0pvGD4T95dF51Ph9fTg</td>\n",
       "      <td>Nicole</td>\n",
       "      <td>13</td>\n",
       "      <td>2016-09-12 19:02:54</td>\n",
       "      <td>7</td>\n",
       "      <td>1</td>\n",
       "      <td>0</td>\n",
       "      <td></td>\n",
       "      <td>OMqnqgoUl7ZRsuw96nvoMg, JclxIH0M2LGSMEN_SY_eZw...</td>\n",
       "      <td>1</td>\n",
       "      <td>...</td>\n",
       "      <td>0</td>\n",
       "      <td>0</td>\n",
       "      <td>9lC14tws_pDZ-3oSUuJVmw</td>\n",
       "      <td>0d1dpaZqcm7litFOJl7atA</td>\n",
       "      <td>5.0</td>\n",
       "      <td>0</td>\n",
       "      <td>0</td>\n",
       "      <td>0</td>\n",
       "      <td>This place is reasonably priced and very trend...</td>\n",
       "      <td>2018-12-28 02:45:38</td>\n",
       "    </tr>\n",
       "    <tr>\n",
       "      <th>2</th>\n",
       "      <td>APsf8UHcyM4a2FzOCIJWPA</td>\n",
       "      <td>Erin</td>\n",
       "      <td>4</td>\n",
       "      <td>2015-02-20 21:28:42</td>\n",
       "      <td>1</td>\n",
       "      <td>0</td>\n",
       "      <td>1</td>\n",
       "      <td></td>\n",
       "      <td>None</td>\n",
       "      <td>0</td>\n",
       "      <td>...</td>\n",
       "      <td>0</td>\n",
       "      <td>0</td>\n",
       "      <td>2Bn12rh5X8dgAYrGRj9uuQ</td>\n",
       "      <td>OhTknUVRxFU8YbaiWZkG3w</td>\n",
       "      <td>5.0</td>\n",
       "      <td>0</td>\n",
       "      <td>0</td>\n",
       "      <td>0</td>\n",
       "      <td>Absolutely the best pizza in Glenside!  I've h...</td>\n",
       "      <td>2015-04-10 13:39:04</td>\n",
       "    </tr>\n",
       "    <tr>\n",
       "      <th>3</th>\n",
       "      <td>Km-DrAz45rD6b3GzDQ6dxA</td>\n",
       "      <td>Jeff</td>\n",
       "      <td>7</td>\n",
       "      <td>2013-01-09 14:31:26</td>\n",
       "      <td>3</td>\n",
       "      <td>0</td>\n",
       "      <td>0</td>\n",
       "      <td></td>\n",
       "      <td>None</td>\n",
       "      <td>0</td>\n",
       "      <td>...</td>\n",
       "      <td>0</td>\n",
       "      <td>0</td>\n",
       "      <td>FQOechSYkHIKFoIOsxbrkw</td>\n",
       "      <td>ZlAkflZPVrWKjcbAOYXzyQ</td>\n",
       "      <td>1.0</td>\n",
       "      <td>3</td>\n",
       "      <td>0</td>\n",
       "      <td>0</td>\n",
       "      <td>This was the absolute WORST customer service I...</td>\n",
       "      <td>2015-04-17 00:18:14</td>\n",
       "    </tr>\n",
       "    <tr>\n",
       "      <th>4</th>\n",
       "      <td>j-B00rO0bM87_F3NnlqJXg</td>\n",
       "      <td>Gloria</td>\n",
       "      <td>168</td>\n",
       "      <td>2013-07-17 00:38:16</td>\n",
       "      <td>155</td>\n",
       "      <td>30</td>\n",
       "      <td>52</td>\n",
       "      <td>2014,2015,2018,2021</td>\n",
       "      <td>qryJXz_026UC5nQJLJiijw, 0v9ouDw3jLW4dAt9Z60dWg...</td>\n",
       "      <td>6</td>\n",
       "      <td>...</td>\n",
       "      <td>4</td>\n",
       "      <td>1</td>\n",
       "      <td>SLUNokvq6xtDN2h0BgmK1Q</td>\n",
       "      <td>H9fkf4Xkj_j7Zxs1FmY58Q</td>\n",
       "      <td>4.0</td>\n",
       "      <td>1</td>\n",
       "      <td>1</td>\n",
       "      <td>0</td>\n",
       "      <td>I tried Plaza Azteca on the recommendation of ...</td>\n",
       "      <td>2014-11-18 14:43:57</td>\n",
       "    </tr>\n",
       "  </tbody>\n",
       "</table>\n",
       "<p>5 rows × 30 columns</p>\n",
       "</div>"
      ],
      "text/plain": [
       "                  user_id    name  review_count        yelping_since  \\\n",
       "0  dJcydaBlE5E98XPqACmrsg   Najwa            22  2018-03-27 00:21:44   \n",
       "1  gGm0pvGD4T95dF51Ph9fTg  Nicole            13  2016-09-12 19:02:54   \n",
       "2  APsf8UHcyM4a2FzOCIJWPA    Erin             4  2015-02-20 21:28:42   \n",
       "3  Km-DrAz45rD6b3GzDQ6dxA    Jeff             7  2013-01-09 14:31:26   \n",
       "4  j-B00rO0bM87_F3NnlqJXg  Gloria           168  2013-07-17 00:38:16   \n",
       "\n",
       "   useful_x  funny_x  cool_x                elite  \\\n",
       "0         8        0       4                        \n",
       "1         7        1       0                        \n",
       "2         1        0       1                        \n",
       "3         3        0       0                        \n",
       "4       155       30      52  2014,2015,2018,2021   \n",
       "\n",
       "                                             friends  fans  ...  \\\n",
       "0                             G0Ex17NeMJUwqNIl8Z4ecw     1  ...   \n",
       "1  OMqnqgoUl7ZRsuw96nvoMg, JclxIH0M2LGSMEN_SY_eZw...     1  ...   \n",
       "2                                               None     0  ...   \n",
       "3                                               None     0  ...   \n",
       "4  qryJXz_026UC5nQJLJiijw, 0v9ouDw3jLW4dAt9Z60dWg...     6  ...   \n",
       "\n",
       "   compliment_writer  compliment_photos               review_id  \\\n",
       "0                  0                  0  1SLFL1pSG206Y06Hn0nnqg   \n",
       "1                  0                  0  9lC14tws_pDZ-3oSUuJVmw   \n",
       "2                  0                  0  2Bn12rh5X8dgAYrGRj9uuQ   \n",
       "3                  0                  0  FQOechSYkHIKFoIOsxbrkw   \n",
       "4                  4                  1  SLUNokvq6xtDN2h0BgmK1Q   \n",
       "\n",
       "              business_id  stars  useful_y  funny_y  cool_y  \\\n",
       "0  FpyjR9TiaO3JyynpF-y-7g    4.0         1        0       0   \n",
       "1  0d1dpaZqcm7litFOJl7atA    5.0         0        0       0   \n",
       "2  OhTknUVRxFU8YbaiWZkG3w    5.0         0        0       0   \n",
       "3  ZlAkflZPVrWKjcbAOYXzyQ    1.0         3        0       0   \n",
       "4  H9fkf4Xkj_j7Zxs1FmY58Q    4.0         1        1       0   \n",
       "\n",
       "                                                text                 date  \n",
       "0  We wanted to try all the wings!!! The menu opt...  2018-04-23 16:34:44  \n",
       "1  This place is reasonably priced and very trend...  2018-12-28 02:45:38  \n",
       "2  Absolutely the best pizza in Glenside!  I've h...  2015-04-10 13:39:04  \n",
       "3  This was the absolute WORST customer service I...  2015-04-17 00:18:14  \n",
       "4  I tried Plaza Azteca on the recommendation of ...  2014-11-18 14:43:57  \n",
       "\n",
       "[5 rows x 30 columns]"
      ]
     },
     "execution_count": 94,
     "metadata": {},
     "output_type": "execute_result"
    }
   ],
   "source": [
    "user_review_sample.head()"
   ]
  },
  {
   "cell_type": "code",
   "execution_count": null,
   "id": "ef29563f-5aec-4d23-bd84-46e5d9dd9556",
   "metadata": {
    "id": "ef29563f-5aec-4d23-bd84-46e5d9dd9556",
    "outputId": "ced11b8a-1eef-453a-83e7-c66f96a40345"
   },
   "outputs": [
    {
     "data": {
      "text/plain": [
       "(467, 30)"
      ]
     },
     "execution_count": 96,
     "metadata": {},
     "output_type": "execute_result"
    }
   ],
   "source": [
    "user_review_sample.shape"
   ]
  },
  {
   "cell_type": "code",
   "execution_count": null,
   "id": "f6022831-951f-477b-a6cf-22a36602e254",
   "metadata": {
    "id": "f6022831-951f-477b-a6cf-22a36602e254"
   },
   "outputs": [],
   "source": []
  }
 ],
 "metadata": {
  "colab": {
   "provenance": []
  },
  "kernelspec": {
   "display_name": "Python 3",
   "language": "python",
   "name": "python3"
  },
  "language_info": {
   "codemirror_mode": {
    "name": "ipython",
    "version": 3
   },
   "file_extension": ".py",
   "mimetype": "text/x-python",
   "name": "python",
   "nbconvert_exporter": "python",
   "pygments_lexer": "ipython3",
   "version": "3.8.8"
  }
 },
 "nbformat": 4,
 "nbformat_minor": 5
}
